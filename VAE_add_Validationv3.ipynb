{
  "nbformat": 4,
  "nbformat_minor": 0,
  "metadata": {
    "colab": {
      "name": "VAE_add Validationv2.ipynb",
      "provenance": [],
      "collapsed_sections": [],
      "machine_shape": "hm",
      "mount_file_id": "1i3cG5ftY62hNoa2rOQvUYa52HGmoIFRB",
      "authorship_tag": "ABX9TyNQis1nyXPQAiYu9wmSW4t/",
      "include_colab_link": true
    },
    "kernelspec": {
      "name": "python3",
      "display_name": "Python 3"
    },
    "language_info": {
      "name": "python"
    },
    "accelerator": "GPU",
    "gpuClass": "standard"
  },
  "cells": [
    {
      "cell_type": "markdown",
      "metadata": {
        "id": "view-in-github",
        "colab_type": "text"
      },
      "source": [
        "<a href=\"https://colab.research.google.com/github/hereagain-Y/AMR_project/blob/main/VAE_add_Validationv3.ipynb\" target=\"_parent\"><img src=\"https://colab.research.google.com/assets/colab-badge.svg\" alt=\"Open In Colab\"/></a>"
      ]
    },
    {
      "cell_type": "markdown",
      "source": [
        ""
      ],
      "metadata": {
        "id": "ieXOYGOBSC1n"
      }
    },
    {
      "cell_type": "code",
      "execution_count": 1,
      "metadata": {
        "id": "-wEXrgmp_uSL"
      },
      "outputs": [],
      "source": [
        "import pandas as pd\n",
        "import numpy as np\n",
        "import matplotlib.pyplot as plt\n",
        "from scipy.signal import savgol_filter\n",
        "\n",
        "from six.moves import xrange"
      ]
    },
    {
      "cell_type": "markdown",
      "source": [
        "Load CDR3 Data"
      ],
      "metadata": {
        "id": "EpQaZOe-_2CF"
      }
    },
    {
      "cell_type": "code",
      "source": [
        "s = []\n",
        "my_file = open(\"/content/drive/My Drive/DL/VAE/NormalCDR3.txt\", \"r\")\n",
        "content_list = my_file.read().splitlines()\n",
        "content_list=np.array(content_list)\n",
        "print(content_list)\n"
      ],
      "metadata": {
        "colab": {
          "base_uri": "https://localhost:8080/"
        },
        "id": "NyniOPfL_z9G",
        "outputId": "3ac36e60-fdc9-4f19-8063-39ecc535e56a"
      },
      "execution_count": 2,
      "outputs": [
        {
          "output_type": "stream",
          "name": "stdout",
          "text": [
            "['CASSLKPNTEAFF' 'CASSAHIANYGYTF' 'CASSPRPNTEAFF' ... 'CASSVDVGYEQYF'\n",
            " 'CASRLAGQETQYF' 'CASSVVPNTEAFF']\n"
          ]
        }
      ]
    },
    {
      "cell_type": "markdown",
      "source": [
        "Load AA index data"
      ],
      "metadata": {
        "id": "Jtn1K1TP_8zz"
      }
    },
    {
      "cell_type": "code",
      "source": [
        "d= {} # bipphysics dictionary\n",
        "with open(\"/content/drive/My Drive/DL/VAE/AAidx_PCA.txt\") as f:\n",
        "    next(f)\n",
        "    for line in f.readlines():\n",
        "        line=line.strip().split('\\t') #\n",
        "        AA=line[0]\n",
        "        tag=0\n",
        "        values=[]\n",
        "        for PC in line[1:]:\n",
        "            values.append(float(PC))\n",
        "        if tag==1: \n",
        "            continue\n",
        "        d[AA]=values\n",
        "d # AA\n"
      ],
      "metadata": {
        "id": "amoQH7Q1_42y"
      },
      "execution_count": null,
      "outputs": []
    },
    {
      "cell_type": "markdown",
      "source": [
        "# normalization "
      ],
      "metadata": {
        "id": "YEu6WiG2CsMH"
      }
    },
    {
      "cell_type": "code",
      "source": [
        "max(d['A'])\n",
        "type(d['A'])"
      ],
      "metadata": {
        "colab": {
          "base_uri": "https://localhost:8080/"
        },
        "id": "ObWALNTJDlHC",
        "outputId": "e8179d91-3e87-4df7-ab82-d4eb82779a1f"
      },
      "execution_count": null,
      "outputs": [
        {
          "output_type": "execute_result",
          "data": {
            "text/plain": [
              "list"
            ]
          },
          "metadata": {},
          "execution_count": 19
        }
      ]
    },
    {
      "cell_type": "code",
      "source": [
        " \n",
        " #return 0 -1 (xi – min(x)) / (max(x) – min(x))\n",
        "\n",
        "def normalize(d):\n",
        "  result = {}\n",
        "  for key, value in d.items():\n",
        "    maxval = max(d[key])\n",
        "    minval = min(d[key])\n",
        "    newval=[]\n",
        "    for number in value:\n",
        "\n",
        "      newval.append((number-minval)/(maxval-minval))\n",
        "    \n",
        "    result[key] =newval\n",
        "  return(result)\n",
        "    \n",
        "\n"
      ],
      "metadata": {
        "id": "FApep1GkyxSH"
      },
      "execution_count": 4,
      "outputs": []
    },
    {
      "cell_type": "code",
      "source": [
        "\n",
        "d_norm=normalize(d)\n",
        "d_norm"
      ],
      "metadata": {
        "id": "VSE2mBaEGhyp",
        "colab": {
          "base_uri": "https://localhost:8080/"
        },
        "outputId": "83801ccc-c4f1-4382-837a-d7e36c8653cf"
      },
      "execution_count": 6,
      "outputs": [
        {
          "output_type": "execute_result",
          "data": {
            "text/plain": [
              "{'A': [0.07525231330089575,\n",
              "  0.11110993247250554,\n",
              "  1.0,\n",
              "  0.10085171430385075,\n",
              "  0.3362586030378956,\n",
              "  0.08589557098930195,\n",
              "  0.3166716257763159,\n",
              "  0.07845695355133557,\n",
              "  0.29558950944630463,\n",
              "  0.0,\n",
              "  0.17264524667274148,\n",
              "  0.02519795885608285,\n",
              "  0.21399362066317887,\n",
              "  0.20352855444366297,\n",
              "  0.315091708147771],\n",
              " 'C': [0.0,\n",
              "  0.7495696809258403,\n",
              "  0.07865597242639141,\n",
              "  1.0,\n",
              "  0.7627030301724574,\n",
              "  0.8168259804237982,\n",
              "  0.4333259554067372,\n",
              "  0.16777058828085453,\n",
              "  0.33203232126086285,\n",
              "  0.5724424696175718,\n",
              "  0.4816359939467978,\n",
              "  0.39170914029908754,\n",
              "  0.4294503690415155,\n",
              "  0.37686420256824266,\n",
              "  0.3449489815613006],\n",
              " 'D': [1.0,\n",
              "  0.25640988772162693,\n",
              "  0.32592183369372396,\n",
              "  0.4200305281353341,\n",
              "  0.5744582792254195,\n",
              "  0.1560420670881465,\n",
              "  0.0,\n",
              "  0.3091207506859722,\n",
              "  0.258039340323857,\n",
              "  0.2882727977487466,\n",
              "  0.3895335207450628,\n",
              "  0.38763175831637187,\n",
              "  0.18676139620557258,\n",
              "  0.5451097643479257,\n",
              "  0.2696370438467982],\n",
              " 'E': [1.0,\n",
              "  0.0,\n",
              "  0.8519057393700852,\n",
              "  0.4383574918534277,\n",
              "  0.8599244246079534,\n",
              "  0.44531872514061677,\n",
              "  0.34420016307077556,\n",
              "  0.419059344611419,\n",
              "  0.42225745162953326,\n",
              "  0.5198370169967937,\n",
              "  0.5156048873805594,\n",
              "  0.43016470999442546,\n",
              "  0.6900729995633731,\n",
              "  0.35120051609907876,\n",
              "  0.5345244192415937],\n",
              " 'F': [0.0,\n",
              "  0.895733473148773,\n",
              "  0.7011590523747511,\n",
              "  0.7376751135070108,\n",
              "  0.8326948911199726,\n",
              "  0.6656336257964081,\n",
              "  0.8350784673036493,\n",
              "  0.9640613943974748,\n",
              "  0.8036733026826525,\n",
              "  0.7859090504395838,\n",
              "  1.0,\n",
              "  0.9471968615621887,\n",
              "  0.866915547211168,\n",
              "  0.7070806796148316,\n",
              "  0.5571209609523142],\n",
              " 'G': [0.8429478606727597,\n",
              "  1.0,\n",
              "  0.5252595800001968,\n",
              "  0.5157339382265325,\n",
              "  0.10595183977026666,\n",
              "  0.0,\n",
              "  0.5182939879393725,\n",
              "  0.1448507683832697,\n",
              "  0.1635863707059629,\n",
              "  0.25771403489247624,\n",
              "  0.2645076978972347,\n",
              "  0.29169149364768643,\n",
              "  0.3371516858971288,\n",
              "  0.2885992645132769,\n",
              "  0.26336986042163396],\n",
              " 'H': [0.5126265387855812,\n",
              "  0.09731129383041622,\n",
              "  0.05945794084348342,\n",
              "  0.7097374700756438,\n",
              "  0.5516277849080972,\n",
              "  0.440047129202897,\n",
              "  0.7575343571408631,\n",
              "  1.0,\n",
              "  0.2820940753373731,\n",
              "  0.37571029661074035,\n",
              "  0.5913471743406188,\n",
              "  0.0,\n",
              "  0.5314019560074463,\n",
              "  0.5542149644707269,\n",
              "  0.44494028619636306],\n",
              " 'I': [0.0,\n",
              "  1.0,\n",
              "  0.9885681993705422,\n",
              "  0.6916893496569098,\n",
              "  0.716811876392177,\n",
              "  0.8904204716744661,\n",
              "  0.6644952019940336,\n",
              "  0.8546040454511806,\n",
              "  0.6913489478662816,\n",
              "  0.9061621665512967,\n",
              "  0.7032972461385075,\n",
              "  0.7838413537916215,\n",
              "  0.6408050606795745,\n",
              "  0.7634954867765327,\n",
              "  0.8904188104131613],\n",
              " 'K': [1.0,\n",
              "  0.0,\n",
              "  0.6224925689412456,\n",
              "  0.45870440453940453,\n",
              "  0.28653953182045644,\n",
              "  0.5702684748742254,\n",
              "  0.7109431777333735,\n",
              "  0.4731589744266013,\n",
              "  0.5944542049205196,\n",
              "  0.8774963904168196,\n",
              "  0.4232781906968988,\n",
              "  0.47385438071969777,\n",
              "  0.468590598677312,\n",
              "  0.654037749694505,\n",
              "  0.4283132649572589],\n",
              " 'L': [0.0,\n",
              "  0.5863803144325149,\n",
              "  1.0,\n",
              "  0.4159670626311591,\n",
              "  0.5589965160251994,\n",
              "  0.5314191618685169,\n",
              "  0.6273477703452663,\n",
              "  0.6163358349171919,\n",
              "  0.6702660421447921,\n",
              "  0.735795072378089,\n",
              "  0.838109980309614,\n",
              "  0.685712646619566,\n",
              "  0.6476918286577013,\n",
              "  0.6418595735475899,\n",
              "  0.5893267664779259],\n",
              " 'M': [0.0,\n",
              "  0.43830909825218134,\n",
              "  0.7409924383569062,\n",
              "  0.7752214270749493,\n",
              "  0.9899826728151006,\n",
              "  0.6396972425149291,\n",
              "  1.0,\n",
              "  0.8187826178008332,\n",
              "  0.6091062409752325,\n",
              "  0.5341964995888923,\n",
              "  0.5133901381085172,\n",
              "  0.9538346486338766,\n",
              "  0.6032724826669291,\n",
              "  0.8040070758905902,\n",
              "  0.7631196336148462],\n",
              " 'N': [1.0,\n",
              "  0.33875792059923404,\n",
              "  0.08051659481278953,\n",
              "  0.5409271544498805,\n",
              "  0.17196565841462272,\n",
              "  0.08031021902130163,\n",
              "  0.18874324146258997,\n",
              "  0.5291298621814148,\n",
              "  0.3042291274231407,\n",
              "  0.46516048086757544,\n",
              "  0.3558216551514157,\n",
              "  0.38102091917816505,\n",
              "  0.07103751169386222,\n",
              "  0.0,\n",
              "  0.4581217601781321],\n",
              " 'P': [1.0,\n",
              "  0.9678299346937969,\n",
              "  0.2873103002501223,\n",
              "  0.0,\n",
              "  0.7213204128707134,\n",
              "  0.6669596159543625,\n",
              "  0.6238994283073512,\n",
              "  0.5410672692796757,\n",
              "  0.5174577603260793,\n",
              "  0.5575554186175415,\n",
              "  0.5478805598359968,\n",
              "  0.5318649596881818,\n",
              "  0.5240640632391992,\n",
              "  0.5380705357967374,\n",
              "  0.5510302557034584],\n",
              " 'Q': [1.0,\n",
              "  0.0,\n",
              "  0.4874090946271054,\n",
              "  0.5245669212057058,\n",
              "  0.5793156314297405,\n",
              "  0.6777278493076948,\n",
              "  0.59227066691311,\n",
              "  0.5537248504715857,\n",
              "  0.56634213135494,\n",
              "  0.5260065313635187,\n",
              "  0.16170176261684477,\n",
              "  0.7576206204257647,\n",
              "  0.6703503929841057,\n",
              "  0.3572468087354067,\n",
              "  0.4211125451159518],\n",
              " 'R': [1.0,\n",
              "  0.0,\n",
              "  0.4038784221987408,\n",
              "  0.5654030339035435,\n",
              "  0.19358241833934803,\n",
              "  0.9218071081013374,\n",
              "  0.706684933100523,\n",
              "  0.386763003529879,\n",
              "  0.4859773194257129,\n",
              "  0.35364725786412415,\n",
              "  0.853611611157344,\n",
              "  0.6896935049070329,\n",
              "  0.5301256891869882,\n",
              "  0.5887127624896037,\n",
              "  0.6865122676206136],\n",
              " 'S': [1.0,\n",
              "  0.6629241425186176,\n",
              "  0.3971421939093515,\n",
              "  0.4420408948983864,\n",
              "  0.0,\n",
              "  0.35348655089863573,\n",
              "  0.10502055773770015,\n",
              "  0.4208554468348848,\n",
              "  0.6207996317227813,\n",
              "  0.13490123847412938,\n",
              "  0.24598842050611336,\n",
              "  0.2738604526326865,\n",
              "  0.28816462866556675,\n",
              "  0.272696218428129,\n",
              "  0.2747925450248808],\n",
              " 'T': [0.8228897134291544,\n",
              "  0.8757819027580704,\n",
              "  0.548406058063984,\n",
              "  0.577890595088464,\n",
              "  0.11999907040692198,\n",
              "  0.8861660541899355,\n",
              "  0.12255981142787364,\n",
              "  0.6162292045627772,\n",
              "  1.0,\n",
              "  0.0,\n",
              "  0.24006222576062317,\n",
              "  0.363306898053537,\n",
              "  0.4381127078433509,\n",
              "  0.3984490011957435,\n",
              "  0.1322066508263117],\n",
              " 'V': [0.0,\n",
              "  0.920716874525087,\n",
              "  1.0,\n",
              "  0.655058838720571,\n",
              "  0.5129696990389304,\n",
              "  0.9256144269570291,\n",
              "  0.48287391494469567,\n",
              "  0.6664471681991371,\n",
              "  0.5707851059690189,\n",
              "  0.6585185784388967,\n",
              "  0.5579245811081751,\n",
              "  0.5283973596348936,\n",
              "  0.6384838576643221,\n",
              "  0.6959231163231407,\n",
              "  0.718506279249867],\n",
              " 'W': [0.0,\n",
              "  0.5265518403635485,\n",
              "  0.10646350556584966,\n",
              "  0.656785011442361,\n",
              "  0.7917551877840969,\n",
              "  0.3508570096499505,\n",
              "  0.7139502832159056,\n",
              "  0.41973735777416,\n",
              "  1.0,\n",
              "  0.6448022714666447,\n",
              "  0.649460142439607,\n",
              "  0.5420991485613023,\n",
              "  0.6099816370257962,\n",
              "  0.6580120762938598,\n",
              "  0.7509510362085703],\n",
              " 'Y': [0.2345055512181357,\n",
              "  0.6856921147807877,\n",
              "  0.0,\n",
              "  0.5591293461222061,\n",
              "  0.26547243642931984,\n",
              "  0.4531111785071339,\n",
              "  0.3695535713604565,\n",
              "  0.6538405771977889,\n",
              "  0.4928710738587172,\n",
              "  0.6945165385130224,\n",
              "  0.545421988640566,\n",
              "  0.7303338734901412,\n",
              "  1.0,\n",
              "  0.776257903904405,\n",
              "  0.764500006812323]}"
            ]
          },
          "metadata": {},
          "execution_count": 6
        }
      ]
    },
    {
      "cell_type": "code",
      "source": [
        "# max length\n",
        "#comp_seq=data[\"amino_acid\"].tolist()\n",
        "\n",
        "comp_seq=content_list\n",
        "print(comp_seq)\n",
        "max_len=-1 \n",
        "\n",
        "for AA in comp_seq:\n",
        "    if len(AA)>max_len:\n",
        "        max_len=len(AA)\n",
        "        #res=AA\n",
        "print(max_len )"
      ],
      "metadata": {
        "colab": {
          "base_uri": "https://localhost:8080/"
        },
        "id": "P1CjoocQ_-rT",
        "outputId": "4ea699f9-dab5-4e46-9df8-ee4d183cf7e0"
      },
      "execution_count": 7,
      "outputs": [
        {
          "output_type": "stream",
          "name": "stdout",
          "text": [
            "['CASSLKPNTEAFF' 'CASSAHIANYGYTF' 'CASSPRPNTEAFF' ... 'CASSVDVGYEQYF'\n",
            " 'CASRLAGQETQYF' 'CASSVVPNTEAFF']\n",
            "19\n"
          ]
        }
      ]
    },
    {
      "cell_type": "code",
      "source": [
        "PC_length=len(d_norm['C'])\n",
        "def AAindexEncoding(Seq):\n",
        "    length_seq=len(Seq)\n",
        "    global max_len\n",
        "    AAE=np.zeros([max_len,15])\n",
        "    if length_seq<max_len:\n",
        "        for amino in range(length_seq):\n",
        "            AA=Seq[amino]# \n",
        "            AAE[amino,]=d_norm[AA] # add PC value \n",
        "            \n",
        "        for amino in range(length_seq,max_len):\n",
        "            AAE[amino,]=np.zeros(15)\n",
        "    else: \n",
        "        for amino in range(length_seq): # zero padding\n",
        "            AA=Seq[amino]# \n",
        "            AAE[amino,]=d_norm[AA]\n",
        "        \n",
        "    #AAE=np.transpose(AAE.astype(np.float32)) # row as PC. and column as AA sequence \n",
        "    return AAE \n",
        "  \n",
        "def GetFeatures(file):\n",
        "    #sequence=file['amino_acid'].tolist()\n",
        "    #sequence=np.array(sequence)\n",
        "    #sequence = file.read().splitlines()\n",
        "    #sequence=np.array(sequence)\n",
        "    hot_encode=[]\n",
        "    for seq in file:\n",
        "        hot_encode.append(AAindexEncoding(seq))\n",
        "    hot_encode=np.array(hot_encode)\n",
        "    result=np.array(hot_encode)\n",
        "    return(result) # dimension: number of sequence [15*length(sequence)]\n",
        "\n",
        "\n",
        "r1=GetFeatures(content_list)"
      ],
      "metadata": {
        "id": "R0FBPU3sADbR"
      },
      "execution_count": 8,
      "outputs": []
    },
    {
      "cell_type": "code",
      "source": [
        "r1[1]"
      ],
      "metadata": {
        "colab": {
          "base_uri": "https://localhost:8080/"
        },
        "id": "PrkmunsK9m6X",
        "outputId": "bd47dcca-cbe1-4a7b-9baf-bcaac0780153"
      },
      "execution_count": null,
      "outputs": [
        {
          "output_type": "execute_result",
          "data": {
            "text/plain": [
              "array([[0.        , 0.74956968, 0.07865597, 1.        , 0.76270303,\n",
              "        0.81682598, 0.43332596, 0.16777059, 0.33203232, 0.57244247,\n",
              "        0.48163599, 0.39170914, 0.42945037, 0.3768642 , 0.34494898],\n",
              "       [0.07525231, 0.11110993, 1.        , 0.10085171, 0.3362586 ,\n",
              "        0.08589557, 0.31667163, 0.07845695, 0.29558951, 0.        ,\n",
              "        0.17264525, 0.02519796, 0.21399362, 0.20352855, 0.31509171],\n",
              "       [1.        , 0.66292414, 0.39714219, 0.44204089, 0.        ,\n",
              "        0.35348655, 0.10502056, 0.42085545, 0.62079963, 0.13490124,\n",
              "        0.24598842, 0.27386045, 0.28816463, 0.27269622, 0.27479255],\n",
              "       [1.        , 0.66292414, 0.39714219, 0.44204089, 0.        ,\n",
              "        0.35348655, 0.10502056, 0.42085545, 0.62079963, 0.13490124,\n",
              "        0.24598842, 0.27386045, 0.28816463, 0.27269622, 0.27479255],\n",
              "       [0.07525231, 0.11110993, 1.        , 0.10085171, 0.3362586 ,\n",
              "        0.08589557, 0.31667163, 0.07845695, 0.29558951, 0.        ,\n",
              "        0.17264525, 0.02519796, 0.21399362, 0.20352855, 0.31509171],\n",
              "       [0.51262654, 0.09731129, 0.05945794, 0.70973747, 0.55162778,\n",
              "        0.44004713, 0.75753436, 1.        , 0.28209408, 0.3757103 ,\n",
              "        0.59134717, 0.        , 0.53140196, 0.55421496, 0.44494029],\n",
              "       [0.        , 1.        , 0.9885682 , 0.69168935, 0.71681188,\n",
              "        0.89042047, 0.6644952 , 0.85460405, 0.69134895, 0.90616217,\n",
              "        0.70329725, 0.78384135, 0.64080506, 0.76349549, 0.89041881],\n",
              "       [0.07525231, 0.11110993, 1.        , 0.10085171, 0.3362586 ,\n",
              "        0.08589557, 0.31667163, 0.07845695, 0.29558951, 0.        ,\n",
              "        0.17264525, 0.02519796, 0.21399362, 0.20352855, 0.31509171],\n",
              "       [1.        , 0.33875792, 0.08051659, 0.54092715, 0.17196566,\n",
              "        0.08031022, 0.18874324, 0.52912986, 0.30422913, 0.46516048,\n",
              "        0.35582166, 0.38102092, 0.07103751, 0.        , 0.45812176],\n",
              "       [0.23450555, 0.68569211, 0.        , 0.55912935, 0.26547244,\n",
              "        0.45311118, 0.36955357, 0.65384058, 0.49287107, 0.69451654,\n",
              "        0.54542199, 0.73033387, 1.        , 0.7762579 , 0.76450001],\n",
              "       [0.84294786, 1.        , 0.52525958, 0.51573394, 0.10595184,\n",
              "        0.        , 0.51829399, 0.14485077, 0.16358637, 0.25771403,\n",
              "        0.2645077 , 0.29169149, 0.33715169, 0.28859926, 0.26336986],\n",
              "       [0.23450555, 0.68569211, 0.        , 0.55912935, 0.26547244,\n",
              "        0.45311118, 0.36955357, 0.65384058, 0.49287107, 0.69451654,\n",
              "        0.54542199, 0.73033387, 1.        , 0.7762579 , 0.76450001],\n",
              "       [0.82288971, 0.8757819 , 0.54840606, 0.5778906 , 0.11999907,\n",
              "        0.88616605, 0.12255981, 0.6162292 , 1.        , 0.        ,\n",
              "        0.24006223, 0.3633069 , 0.43811271, 0.398449  , 0.13220665],\n",
              "       [0.        , 0.89573347, 0.70115905, 0.73767511, 0.83269489,\n",
              "        0.66563363, 0.83507847, 0.96406139, 0.8036733 , 0.78590905,\n",
              "        1.        , 0.94719686, 0.86691555, 0.70708068, 0.55712096],\n",
              "       [0.        , 0.        , 0.        , 0.        , 0.        ,\n",
              "        0.        , 0.        , 0.        , 0.        , 0.        ,\n",
              "        0.        , 0.        , 0.        , 0.        , 0.        ],\n",
              "       [0.        , 0.        , 0.        , 0.        , 0.        ,\n",
              "        0.        , 0.        , 0.        , 0.        , 0.        ,\n",
              "        0.        , 0.        , 0.        , 0.        , 0.        ],\n",
              "       [0.        , 0.        , 0.        , 0.        , 0.        ,\n",
              "        0.        , 0.        , 0.        , 0.        , 0.        ,\n",
              "        0.        , 0.        , 0.        , 0.        , 0.        ],\n",
              "       [0.        , 0.        , 0.        , 0.        , 0.        ,\n",
              "        0.        , 0.        , 0.        , 0.        , 0.        ,\n",
              "        0.        , 0.        , 0.        , 0.        , 0.        ],\n",
              "       [0.        , 0.        , 0.        , 0.        , 0.        ,\n",
              "        0.        , 0.        , 0.        , 0.        , 0.        ,\n",
              "        0.        , 0.        , 0.        , 0.        , 0.        ]])"
            ]
          },
          "metadata": {},
          "execution_count": 32
        }
      ]
    },
    {
      "cell_type": "code",
      "source": [
        ""
      ],
      "metadata": {
        "colab": {
          "base_uri": "https://localhost:8080/",
          "height": 265
        },
        "id": "97l0NL4O9sM0",
        "outputId": "450505b2-302d-4ac5-8173-4d4874b94229"
      },
      "execution_count": null,
      "outputs": [
        {
          "output_type": "display_data",
          "data": {
            "text/plain": [
              "<Figure size 432x288 with 2 Axes>"
            ],
            "image/png": "[encoded data removed]"
          },
          "metadata": {
            "needs_background": "light"
          }
        }
      ]
    },
    {
      "cell_type": "code",
      "source": [
        "import torch\n",
        "import torch.nn as nn\n",
        "import torchvision.transforms as transforms\n",
        "import numpy as np\n",
        "\n",
        "from tqdm import tqdm\n",
        "from torchvision.utils import save_image, make_grid\n",
        "from torch.utils.data import DataLoader, Subset\n",
        "from sklearn.model_selection import train_test_split"
      ],
      "metadata": {
        "id": "KfJ3scGGAL8p"
      },
      "execution_count": 9,
      "outputs": []
    },
    {
      "cell_type": "code",
      "source": [
        "# transform \n",
        "kwargs = {'num_workers': 1, 'pin_memory': True} \n",
        "r1_transform=torch.from_numpy(r1) # from np to tensor\n",
        "r1_transform=r1_transform.float()\n",
        "r1_transform.shape\n",
        "r1_mean = torch.mean(r1_transform)\n",
        "r1_std = torch.std(r1_transform)\n",
        "r1_var =  torch.var(r1_transform)\n",
        "print(\"mean, std, var of tensor:\\n\", r1_mean, r1_std, r1_var)\n",
        "\n",
        "# normalization \n",
        "r1_transform = (r1_transform-r1_mean)/r1_var\n",
        "#train_ds, test_ds = torch.utils.data.random_split(r2_transform, (30000, 10000))\n",
        "train_ds, test_ds =torch.utils.data.random_split(r1_transform, (int(0.8*len(r1_transform)), len(r1_transform)-int(0.8*len(r1_transform))))\n",
        "print(train_ds, test_ds)\n",
        "\n",
        "train_loader = DataLoader(dataset=train_ds, batch_size=1000)\n",
        "test_loader  = DataLoader(dataset=test_ds,  batch_size=1000)\n",
        "\n"
      ],
      "metadata": {
        "colab": {
          "base_uri": "https://localhost:8080/"
        },
        "id": "4sPFD40yAP1r",
        "outputId": "5bc6e621-92c7-4ed6-f784-95bed8aaa4b0"
      },
      "execution_count": 10,
      "outputs": [
        {
          "output_type": "stream",
          "name": "stdout",
          "text": [
            "mean, std, var of tensor:\n",
            " tensor(0.3385) tensor(0.3204) tensor(0.1027)\n",
            "<torch.utils.data.dataset.Subset object at 0x7fd57d44ded0> <torch.utils.data.dataset.Subset object at 0x7fd57d44dc10>\n"
          ]
        }
      ]
    },
    {
      "cell_type": "code",
      "source": [
        "# set paramters:\n",
        "cuda = True\n",
        "DEVICE = torch.device(\"cuda\" if cuda else \"cpu\")\n",
        "\n",
        "\n",
        "batch_size = 1000\n",
        "\n",
        "x_dim=285 # 19*15\n",
        "hidden_dim = 256\n",
        "hidden_dim2 = 128\n",
        "\n",
        "latent_dim = 64\n",
        "\n",
        "lr = 1e-3\n",
        "\n",
        "epochs = 200"
      ],
      "metadata": {
        "id": "VU4GsOfhASqH"
      },
      "execution_count": 11,
      "outputs": []
    },
    {
      "cell_type": "code",
      "source": [
        "class Encoder(nn.Module):\n",
        "    \n",
        "    def __init__(self, input_dim, hidden_dim,hidden_dim2, latent_dim):\n",
        "        super(Encoder, self).__init__()\n",
        "\n",
        "        self.FC_input = nn.Linear(input_dim, hidden_dim)\n",
        "        self.FC_input2 = nn.Linear(hidden_dim, hidden_dim)\n",
        "        self.FC_input3 = nn.Linear(hidden_dim, hidden_dim2)\n",
        "        self.FC_mean  = nn.Linear(hidden_dim2, latent_dim)\n",
        "        self.FC_var   = nn.Linear (hidden_dim2, latent_dim)\n",
        "        \n",
        "        self.LeakyReLU = nn.LeakyReLU(0.2)\n",
        "        \n",
        "        self.training = True\n",
        "        \n",
        "    def forward(self, x):\n",
        "        h_       = self.LeakyReLU(self.FC_input(x))\n",
        "        h_       = self.LeakyReLU(self.FC_input2(h_))\n",
        "        h_       = self.LeakyReLU(self.FC_input3(h_))\n",
        "        mean     = self.FC_mean(h_)\n",
        "        log_var  = self.FC_var(h_)                     # encoder produces mean and log of variance \n",
        "                                                       #             (i.e., parateters of simple tractable normal distribution \"q\"\n",
        "        \n",
        "        return mean, log_var"
      ],
      "metadata": {
        "id": "sXSsMe7FAVbt"
      },
      "execution_count": 12,
      "outputs": []
    },
    {
      "cell_type": "code",
      "source": [
        "class Decoder(nn.Module):\n",
        "    def __init__(self, latent_dim, hidden_dim,hidden_dim2, output_dim):\n",
        "        super(Decoder, self).__init__()\n",
        "        self.FC_hidden = nn.Linear(latent_dim, hidden_dim2)\n",
        "        self.FC_hidden3 = nn.Linear(hidden_dim2, hidden_dim)\n",
        "        self.FC_hidden2 = nn.Linear(hidden_dim, hidden_dim)\n",
        "        self.FC_output = nn.Linear(hidden_dim, output_dim)\n",
        "        \n",
        "        self.LeakyReLU = nn.LeakyReLU(0.2)\n",
        "        \n",
        "    def forward(self, x):\n",
        "        h     = self.LeakyReLU(self.FC_hidden(x))\n",
        "        h     = self.LeakyReLU(self.FC_hidden3(h))\n",
        "        h     = self.LeakyReLU(self.FC_hidden2(h))\n",
        "        \n",
        "        x_hat = torch.sigmoid(self.FC_output(h))\n",
        "        return x_hat"
      ],
      "metadata": {
        "id": "8Vf21LRFAbgL"
      },
      "execution_count": 13,
      "outputs": []
    },
    {
      "cell_type": "code",
      "source": [
        "class Model(nn.Module):\n",
        "    def __init__(self, Encoder, Decoder):\n",
        "        super(Model, self).__init__()\n",
        "        self.Encoder = Encoder\n",
        "        self.Decoder = Decoder\n",
        "        \n",
        "    def reparameterization(self, mean, var):\n",
        "        epsilon = torch.randn_like(var).to(DEVICE)        # sampling epsilon        \n",
        "        z = mean + var*epsilon                          # reparameterization trick\n",
        "        return z\n",
        "        \n",
        "                \n",
        "    def forward(self, x):\n",
        "        mean, log_var = self.Encoder(x)\n",
        "        z = self.reparameterization(mean, torch.exp(0.5 * log_var)) # takes exponential function (log var -> var) ]\n",
        "        x_hat            = self.Decoder(z)\n",
        "        \n",
        "        return x_hat, mean, log_var"
      ],
      "metadata": {
        "id": "zsKRdpZQAdXp"
      },
      "execution_count": 14,
      "outputs": []
    },
    {
      "cell_type": "code",
      "source": [
        "encoder = Encoder(input_dim=x_dim, hidden_dim=hidden_dim, hidden_dim2=hidden_dim2, latent_dim=latent_dim)\n",
        "decoder = Decoder(latent_dim=latent_dim, hidden_dim = hidden_dim, hidden_dim2=hidden_dim2,output_dim = x_dim)\n",
        "\n",
        "model = Model(Encoder=encoder, Decoder=decoder).to(DEVICE)"
      ],
      "metadata": {
        "id": "25yLLc11AfpJ"
      },
      "execution_count": 15,
      "outputs": []
    },
    {
      "cell_type": "code",
      "source": [
        ""
      ],
      "metadata": {
        "id": "6QF7fgSVcQCl"
      },
      "execution_count": null,
      "outputs": []
    },
    {
      "cell_type": "code",
      "source": [
        "from torch.optim import Adam\n",
        "\n",
        "BCE_loss = nn.BCELoss()\n",
        "\n",
        "def loss_function(x, x_hat, mean, log_var):\n",
        "    #reproduction_loss = nn.functional.binary_cross_entropy(x_hat, x, reduction='sum')\n",
        "    # try MSE \n",
        "    MSELoss_criterion = nn.MSELoss()\n",
        "    reproduction_loss = MSELoss_criterion(x_hat, x) \n",
        "    KLD      = - 0.5 * torch.sum(1+ log_var - mean.pow(2) - log_var.exp())\n",
        "\n",
        "    return reproduction_loss + KLD\n",
        "\n",
        "\n",
        "optimizer = Adam(model.parameters(), lr=lr)"
      ],
      "metadata": {
        "id": "GniwWgBZAh92"
      },
      "execution_count": 18,
      "outputs": []
    },
    {
      "cell_type": "code",
      "source": [
        "print(\"Start training VAE...\")\n",
        "model.train()\n",
        "\n",
        "for epoch in range(epochs):\n",
        "    overall_loss = 0\n",
        "    overall_testloss= 0\n",
        "    train_loss= []\n",
        "    testtoal_loss= []\n",
        "    for batch_idx, x in enumerate(train_loader):\n",
        "        x = x.view(len(x), x_dim)\n",
        "        x = x.to(DEVICE)\n",
        "\n",
        "        optimizer.zero_grad()\n",
        "\n",
        "        x_hat, mean, log_var = model(x)\n",
        "        loss = loss_function(x, x_hat, mean, log_var)\n",
        "        overall_loss += loss.item()\n",
        "        train_loss.append(loss.item())\n",
        "        \n",
        "        loss.backward()\n",
        "       \n",
        "        optimizer.step()\n",
        "      #test loss\n",
        "    for batch_idx, x in enumerate(test_loader):\n",
        "        x = x.view(len(x), x_dim)\n",
        "        x = x.to(DEVICE)\n",
        "\n",
        "        #optimizer.zero_grad()\n",
        "\n",
        "        pred, mean, log_var = model(x)\n",
        "        test_loss = loss_function(x, pred, mean, log_var)\n",
        "        overall_testloss += test_loss.item()\n",
        "        testtoal_loss.append(test_loss.item())\n",
        "\n",
        "    if (epoch % 10 == 0):\n",
        "      #print('====> Epoch %d done! Average Loss:  = %.2e, Average test loss = %.2e' % (epoch,overall_loss / (batch_idx*batch_size),overall_testloss/(batch_idx*batch_size)))\n",
        "        \n",
        "        \n",
        "      print(\"\\tEpoch\", epoch , \"complete!\", \"\\tAverage Loss: \", overall_loss / (batch_idx*batch_size),\n",
        "        \"\\tAverage Test Loss: \" , overall_testloss/(batch_idx*batch_size))\n",
        "    \n",
        "print(\"Finish!!\")"
      ],
      "metadata": {
        "colab": {
          "base_uri": "https://localhost:8080/"
        },
        "id": "x-1LiPsmAkYW",
        "outputId": "abd85a66-2d29-40f6-8487-abe225b071bf"
      },
      "execution_count": 70,
      "outputs": [
        {
          "output_type": "stream",
          "name": "stdout",
          "text": [
            "Start training VAE...\n",
            "\tEpoch 0 complete! \tAverage Loss:  0.038668827738080704 \tAverage Test Loss:  0.009659789766584125\n",
            "\tEpoch 10 complete! \tAverage Loss:  0.03866885621207101 \tAverage Test Loss:  0.009659857204982213\n",
            "\tEpoch 20 complete! \tAverage Loss:  0.0386688631602696 \tAverage Test Loss:  0.00965983281816755\n",
            "\tEpoch 30 complete! \tAverage Loss:  0.03866884068080357 \tAverage Test Loss:  0.009659841673714774\n",
            "\tEpoch 40 complete! \tAverage Loss:  0.03866876207079206 \tAverage Test Loss:  0.00965985529763358\n",
            "\tEpoch 50 complete! \tAverage Loss:  0.03866875539507185 \tAverage Test Loss:  0.009659863471984864\n",
            "\tEpoch 60 complete! \tAverage Loss:  0.03866892487662179 \tAverage Test Loss:  0.009659822055271694\n",
            "\tEpoch 70 complete! \tAverage Loss:  0.038668861389160154 \tAverage Test Loss:  0.009659832409449986\n",
            "\tEpoch 80 complete! \tAverage Loss:  0.03866883441380092 \tAverage Test Loss:  0.00965983213697161\n",
            "\tEpoch 90 complete! \tAverage Loss:  0.03866884204319545 \tAverage Test Loss:  0.009659814834594726\n",
            "\tEpoch 100 complete! \tAverage Loss:  0.03866872841971261 \tAverage Test Loss:  0.00965982586996896\n",
            "\tEpoch 110 complete! \tAverage Loss:  0.038668827329363144 \tAverage Test Loss:  0.009659847123282297\n",
            "\tEpoch 120 complete! \tAverage Loss:  0.038668853623526435 \tAverage Test Loss:  0.009659848758152553\n",
            "\tEpoch 130 complete! \tAverage Loss:  0.03866880117143903 \tAverage Test Loss:  0.009659839902605329\n",
            "\tEpoch 140 complete! \tAverage Loss:  0.03866888441358294 \tAverage Test Loss:  0.009659819602966309\n",
            "\tEpoch 150 complete! \tAverage Loss:  0.038668805394853865 \tAverage Test Loss:  0.009659868240356445\n",
            "\tEpoch 160 complete! \tAverage Loss:  0.03866883223397391 \tAverage Test Loss:  0.009659819875444686\n",
            "\tEpoch 170 complete! \tAverage Loss:  0.038668898037501745 \tAverage Test Loss:  0.0096598356791905\n",
            "\tEpoch 180 complete! \tAverage Loss:  0.03866877828325544 \tAverage Test Loss:  0.00965987709590367\n",
            "\tEpoch 190 complete! \tAverage Loss:  0.03866890811920166 \tAverage Test Loss:  0.009659789494105748\n",
            "Finish!!\n"
          ]
        }
      ]
    },
    {
      "cell_type": "code",
      "source": [
        "\n",
        "\n",
        "#save model\n",
        "torch.save(model, '/content/drive/My Drive/DL/VAE/VAE_modify_model_2000_echo.apx')\n",
        "\n",
        "model = torch.load('/content/drive/My Drive/DL/VAE/VAE_modify_model_2000_echo.apx')"
      ],
      "metadata": {
        "id": "jIFUbI9l_eq1"
      },
      "execution_count": 20,
      "outputs": []
    },
    {
      "cell_type": "code",
      "source": [
        "# load model. \n",
        "\n",
        "my_file2 = open(\"/content/drive/My Drive/DL/VAE/TumorCDR3.txt\", \"r\")\n",
        "content_list2 = my_file2.read().splitlines()\n",
        "\n",
        "#content_list2=np.array(content_list2)\n",
        "\n",
        "neww=[x for x in content_list2 if len(x)<=19]\n",
        "\n",
        "\n",
        "neww=np.array(neww)\n",
        "\n",
        "\n",
        "r2=GetFeatures(neww)\n",
        "\n",
        "r2.shape"
      ],
      "metadata": {
        "colab": {
          "base_uri": "https://localhost:8080/"
        },
        "id": "WF9ljgv_grio",
        "outputId": "2924b8b5-213f-43c5-f888-91d25151dd1f"
      },
      "execution_count": 21,
      "outputs": [
        {
          "output_type": "execute_result",
          "data": {
            "text/plain": [
              "(29695, 19, 15)"
            ]
          },
          "metadata": {},
          "execution_count": 21
        }
      ]
    },
    {
      "cell_type": "code",
      "source": [
        ""
      ],
      "metadata": {
        "colab": {
          "base_uri": "https://localhost:8080/"
        },
        "id": "cP-8pGkQkuOC",
        "outputId": "e9b78dc1-e3ae-48bc-a8bb-7b7585979c44"
      },
      "execution_count": 31,
      "outputs": [
        {
          "output_type": "execute_result",
          "data": {
            "text/plain": [
              "numpy.ndarray"
            ]
          },
          "metadata": {},
          "execution_count": 31
        }
      ]
    },
    {
      "cell_type": "code",
      "source": [
        "#\n",
        "\n",
        "# normalization \n",
        "#r2_transform = (r2_transform-r2_mean)/r2_var\n",
        "#r2_transform.shape\n",
        "#result = model(r2_transform)\n",
        "#m2 = r2.view(len(r2), 285)\n",
        "r2_transform=torch.from_numpy(r2).float() # change to tensor and float \n",
        "m2=r2_transform.view(len(r2_transform),285) # flatten \n",
        "result = model(m2.cuda())[0] # \n",
        "\n",
        "result2=result.cpu().view( len(result),19,15 ).detach().numpy()\n"
      ],
      "metadata": {
        "id": "nrizXUbPj5vr"
      },
      "execution_count": 42,
      "outputs": []
    },
    {
      "cell_type": "code",
      "source": [
        ""
      ],
      "metadata": {
        "id": "T38Myfk1m2nV"
      },
      "execution_count": null,
      "outputs": []
    },
    {
      "cell_type": "code",
      "source": [
        "result2.shape"
      ],
      "metadata": {
        "colab": {
          "base_uri": "https://localhost:8080/"
        },
        "id": "xQWNUh-Xs22L",
        "outputId": "a53d0639-6201-4ce9-b784-78db3eca1ca8"
      },
      "execution_count": 43,
      "outputs": [
        {
          "output_type": "execute_result",
          "data": {
            "text/plain": [
              "(29695, 19, 15)"
            ]
          },
          "metadata": {},
          "execution_count": 43
        }
      ]
    },
    {
      "cell_type": "code",
      "source": [
        "\n",
        "r2_transform.shape"
      ],
      "metadata": {
        "colab": {
          "base_uri": "https://localhost:8080/"
        },
        "id": "HvHnm69Cnolz",
        "outputId": "e00662c4-3d50-45db-b402-e8d72148cb84"
      },
      "execution_count": 47,
      "outputs": [
        {
          "output_type": "execute_result",
          "data": {
            "text/plain": [
              "torch.Size([29695, 19, 15])"
            ]
          },
          "metadata": {},
          "execution_count": 47
        }
      ]
    },
    {
      "cell_type": "code",
      "source": [
        "# show. figure \n",
        "import numpy as np\n",
        "import seaborn as sns\n",
        "import matplotlib.pylab as plt\n",
        "\n",
        "fig1 = r2_transform.cpu()[4] # move to cpu first \n",
        "ax = sns.heatmap(fig1, linewidth=0.5)\n",
        "plt.show()\n",
        "\n"
      ],
      "metadata": {
        "colab": {
          "base_uri": "https://localhost:8080/",
          "height": 269
        },
        "id": "8n4oXX-Js2s6",
        "outputId": "b196fbed-28c1-432f-a34e-4e309f694f49"
      },
      "execution_count": 48,
      "outputs": [
        {
          "output_type": "display_data",
          "data": {
            "text/plain": [
              "<Figure size 432x288 with 2 Axes>"
            ],
            "image/png": "[encoded data removed]"
          },
          "metadata": {
            "needs_background": "light"
          }
        }
      ]
    },
    {
      "cell_type": "code",
      "source": [
        "# for result data\n",
        "# move to cpu first \n",
        "ax = sns.heatmap(data=result2[4], linewidth=0.5)\n",
        "plt.show()"
      ],
      "metadata": {
        "colab": {
          "base_uri": "https://localhost:8080/",
          "height": 265
        },
        "id": "OQdweUfVtKSb",
        "outputId": "34d06f09-7c31-490c-fbda-489d8f1d0575"
      },
      "execution_count": 59,
      "outputs": [
        {
          "output_type": "display_data",
          "data": {
            "text/plain": [
              "<Figure size 432x288 with 2 Axes>"
            ],
            "image/png": "[encoded data removed]"
          },
          "metadata": {
            "needs_background": "light"
          }
        }
      ]
    },
    {
      "cell_type": "code",
      "source": [
        "#fig3 = result2[6] # move to cpu first \n",
        "ax = sns.heatmap(result2[1], linewidth=0.5)\n",
        "plt.show()"
      ],
      "metadata": {
        "colab": {
          "base_uri": "https://localhost:8080/",
          "height": 265
        },
        "id": "2DLUC4gjoU-x",
        "outputId": "3bc6b76f-8859-46c2-b3c2-2f136d25c1af"
      },
      "execution_count": 62,
      "outputs": [
        {
          "output_type": "display_data",
          "data": {
            "text/plain": [
              "<Figure size 432x288 with 2 Axes>"
            ],
            "image/png": "[encoded data removed]"
          },
          "metadata": {
            "needs_background": "light"
          }
        }
      ]
    }
  ]
}