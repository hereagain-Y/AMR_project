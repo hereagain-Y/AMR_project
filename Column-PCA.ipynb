{
  "nbformat": 4,
  "nbformat_minor": 0,
  "metadata": {
    "colab": {
      "name": "Extract_TCR.ipynb",
      "provenance": [],
      "machine_shape": "hm",
      "authorship_tag": "ABX9TyMKzyQ15mtInP6iYte0PNMS",
      "include_colab_link": true
    },
    "kernelspec": {
      "name": "python3",
      "display_name": "Python 3"
    },
    "language_info": {
      "name": "python"
    },
    "accelerator": "GPU",
    "gpuClass": "standard"
  },
  "cells": [
    {
      "cell_type": "markdown",
      "metadata": {
        "id": "view-in-github",
        "colab_type": "text"
      },
      "source": [
        "<a href=\"https://colab.research.google.com/github/hereagain-Y/AMR_project/blob/main/Column-PCA.ipynb\" target=\"_parent\"><img src=\"https://colab.research.google.com/assets/colab-badge.svg\" alt=\"Open In Colab\"/></a>"
      ]
    },
    {
      "cell_type": "code",
      "execution_count": 2,
      "metadata": {
        "id": "YKtrVJr9OFNj"
      },
      "outputs": [],
      "source": [
        "import pandas as pd\n",
        "import numpy as np\n",
        "import matplotlib.pyplot as plt\n",
        "from scipy.signal import savgol_filter\n",
        "from scipy.spatial import distance\n",
        "\n",
        "from six.moves import xrange\n",
        "import torch\n",
        "import torch.nn as nn\n",
        "import torchvision.transforms as transforms\n",
        "import numpy as np\n",
        "\n",
        "from tqdm import tqdm\n",
        "from torchvision.utils import save_image, make_grid\n",
        "from torch.utils.data import DataLoader, Subset\n",
        "from sklearn.model_selection import train_test_split"
      ]
    },
    {
      "cell_type": "markdown",
      "source": [
        "# New section"
      ],
      "metadata": {
        "id": "YTeMzQUlhfvG"
      }
    },
    {
      "cell_type": "code",
      "source": [
        "from google.colab import drive\n",
        "drive.mount('/content/drive')"
      ],
      "metadata": {
        "colab": {
          "base_uri": "https://localhost:8080/"
        },
        "id": "XxVcdd1WWpsz",
        "outputId": "f46b45d9-f59a-43fc-a799-addad383707f"
      },
      "execution_count": 3,
      "outputs": [
        {
          "output_type": "stream",
          "name": "stdout",
          "text": [
            "Mounted at /content/drive\n"
          ]
        }
      ]
    },
    {
      "cell_type": "code",
      "source": [
        "s = []\n",
        "my_file = open(\"/content/drive/My Drive/DL/VAE/Newdata/short_Normal.txt\", \"r\")\n",
        "content_list = my_file.read().splitlines()\n",
        "content_list=np.array(content_list)\n",
        "d= {} # bipphysics dictionary\n",
        "with open(\"/content/drive/My Drive/DL/VAE/AAidx_PCA.txt\") as f:\n",
        "    next(f)\n",
        "    for line in f.readlines():\n",
        "        line=line.strip().split('\\t') #\n",
        "        AA=line[0]\n",
        "        tag=0\n",
        "        values=[]\n",
        "        for PC in line[1:]:\n",
        "            values.append(float(PC))\n",
        "        if tag==1: \n",
        "            continue\n",
        "        d[AA]=values\n",
        "\n",
        "def normalize(d):\n",
        "  result = {}\n",
        "  for key, value in d.items():\n",
        "    maxval = max(d[key])\n",
        "    minval = min(d[key])\n",
        "    newval=[]\n",
        "    for number in value:\n",
        "\n",
        "      newval.append((number-minval)/(maxval-minval))\n",
        "    \n",
        "    result[key] =newval\n",
        "  return(result)\n",
        "\n",
        "d_norm=normalize(d)\n",
        "# new way to normalize \n",
        "data = d.items()\n",
        "list_dat = list(d.values())\n",
        "arr = np.array(list_dat)\n",
        "ex = np.array(arr)\n",
        "ex_norm = (ex-ex.min(axis=0))/(ex.max(axis=0)-ex.min(axis=0))\n",
        "\n",
        "AAs=np.array(list(d.keys()))\n",
        "new_pca = {}\n",
        "\n",
        "for i in np.arange(20):\n",
        "    new_pca[AAs[i]]=ex_norm[i]\n",
        "  \n",
        "# max length\n",
        "#comp_seq=data[\"amino_acid\"].tolist()\n",
        "\n",
        "comp_seq=content_list\n",
        "\n",
        "print(comp_seq)\n",
        "max_len=-1 \n",
        "\n",
        "for AA in comp_seq:\n",
        "    if len(AA)>max_len:\n",
        "        max_len=len(AA)\n",
        "        #res=AA\n",
        "print(max_len )\n",
        "\n",
        "\"\"\"Load AA index data\n",
        "\n",
        "# normalization\n",
        "\"\"\"\n",
        "\n",
        "PC_length=len(d_norm['C'])\n",
        "def AAindexEncoding(Seq):\n",
        "    length_seq=len(Seq)\n",
        "    global max_len\n",
        "    AAE=np.zeros([max_len,15])\n",
        "    if length_seq<max_len:\n",
        "        for amino in range(length_seq):\n",
        "            AA=Seq[amino]# \n",
        "            AAE[amino,]=new_pca[AA] # add PC value \n",
        "            \n",
        "        for amino in range(length_seq,max_len):\n",
        "            AAE[amino,]=np.zeros(15)\n",
        "    else: \n",
        "        for amino in range(length_seq): # zero padding\n",
        "            AA=Seq[amino]# \n",
        "            AAE[amino,]=new_pca[AA]\n",
        "        \n",
        "    #AAE=np.transpose(AAE.astype(np.float32)) # row as PC. and column as AA sequence \n",
        "    return AAE \n",
        "  \n",
        "def GetFeatures(file):\n",
        "    #sequence=file['amino_acid'].tolist()\n",
        "    #sequence=np.array(sequence)\n",
        "    #sequence = file.read().splitlines()\n",
        "    #sequence=np.array(sequence)\n",
        "    hot_encode=[]\n",
        "    for seq in file:\n",
        "        hot_encode.append(AAindexEncoding(seq))\n",
        "    hot_encode=np.array(hot_encode)\n",
        "    result=np.array(hot_encode)\n",
        "    return(result) # dimension: number of sequence [15*length(sequence)]\n",
        "\n",
        "def reconstructSequence(dict,data):\n",
        "  result = []\n",
        "  for i in range(len(data)):\n",
        "    currentSeq= ''\n",
        "    dict_index=list(dict.keys())\n",
        "    if(i%1000==0):\n",
        "      print(str(i/len(data)*100)+'%')\n",
        "    for j in range(len(data[i])):\n",
        "      row = data[i][j]\n",
        "      max_value= np.max(row)\n",
        "      if max_value <= 0.1:\n",
        "        continue\n",
        "      #calculate distance\n",
        "      dist = []\n",
        "      for key, value in dict.items():\n",
        "        dist.append(distance.euclidean(dict[key], row))\n",
        "      currentSeq += dict_index[np.argmin(dist)]\n",
        "    result.append(currentSeq)\n",
        "  return result\n",
        "def CompareSeq(dict,data,correct):\n",
        "  result=[]\n",
        "  result=reconstructSequence(dict,data)\n",
        "  index = 0\n",
        "  print(\"start comparing sequence\")\n",
        "  for i in range(len(result)):\n",
        "    if result[i]==correct[i]:\n",
        "      index += 1\n",
        "  Accu=index/len(result)\n",
        "  print(f'the accuracy is {Accu:.1%}')\n",
        "\n",
        "\n",
        "r1=GetFeatures(content_list)"
      ],
      "metadata": {
        "colab": {
          "base_uri": "https://localhost:8080/"
        },
        "id": "4E93kNRzWvBT",
        "outputId": "6ff4bc29-7899-40a0-b296-1595882bd33a"
      },
      "execution_count": 4,
      "outputs": [
        {
          "output_type": "stream",
          "name": "stdout",
          "text": [
            "['LKPNTEA' 'AHIANYGY' 'PRPNTEA' ... 'VDVGYEQ' 'LAGQETQ' 'VVPNTEA']\n",
            "13\n"
          ]
        }
      ]
    },
    {
      "cell_type": "code",
      "source": [
        "r1"
      ],
      "metadata": {
        "colab": {
          "base_uri": "https://localhost:8080/"
        },
        "id": "VbDn88QG0xZC",
        "outputId": "165ecb59-e776-4504-f3cb-2204727a7e32"
      },
      "execution_count": 5,
      "outputs": [
        {
          "output_type": "execute_result",
          "data": {
            "text/plain": [
              "array([[[0.07030965, 0.40676752, 0.8684857 , ..., 0.50469855,\n",
              "         0.59503819, 0.59367788],\n",
              "        [0.83311257, 0.00431661, 0.5397168 , ..., 0.2385159 ,\n",
              "         0.74577505, 0.35191302],\n",
              "        [0.95036751, 0.87434867, 0.17176543, ..., 0.34823108,\n",
              "         0.48280104, 0.66762789],\n",
              "        ...,\n",
              "        [0.        , 0.        , 0.        , ..., 0.        ,\n",
              "         0.        , 0.        ],\n",
              "        [0.        , 0.        , 0.        , ..., 0.        ,\n",
              "         0.        , 0.        ],\n",
              "        [0.        , 0.        , 0.        , ..., 0.        ,\n",
              "         0.        , 0.        ]],\n",
              "\n",
              "       [[0.50354548, 0.4076369 , 1.        , ..., 0.5111926 ,\n",
              "         0.6006534 , 0.94119758],\n",
              "        [0.5466722 , 0.23034084, 0.23674313, ..., 0.46698353,\n",
              "         0.60350722, 0.57779154],\n",
              "        [0.        , 0.54289831, 0.59825751, ..., 0.        ,\n",
              "         0.327881  , 0.75923615],\n",
              "        ...,\n",
              "        [0.        , 0.        , 0.        , ..., 0.        ,\n",
              "         0.        , 0.        ],\n",
              "        [0.        , 0.        , 0.        , ..., 0.        ,\n",
              "         0.        , 0.        ],\n",
              "        [0.        , 0.        , 0.        , ..., 0.        ,\n",
              "         0.        , 0.        ]],\n",
              "\n",
              "       [[0.95036751, 0.87434867, 0.17176543, ..., 0.34823108,\n",
              "         0.48280104, 0.66762789],\n",
              "        [0.75074501, 0.        , 0.30569116, ..., 0.22308671,\n",
              "         0.41932357, 0.76677   ],\n",
              "        [0.95036751, 0.87434867, 0.17176543, ..., 0.34823108,\n",
              "         0.48280104, 0.66762789],\n",
              "        ...,\n",
              "        [0.        , 0.        , 0.        , ..., 0.        ,\n",
              "         0.        , 0.        ],\n",
              "        [0.        , 0.        , 0.        , ..., 0.        ,\n",
              "         0.        , 0.        ],\n",
              "        [0.        , 0.        , 0.        , ..., 0.        ,\n",
              "         0.        , 0.        ]],\n",
              "\n",
              "       ...,\n",
              "\n",
              "       [[0.11247097, 0.58374741, 0.7162086 , ..., 0.29353891,\n",
              "         0.5001218 , 0.69294201],\n",
              "        [1.        , 0.35242153, 0.45879071, ..., 0.04997744,\n",
              "         1.        , 0.44779209],\n",
              "        [0.11247097, 0.58374741, 0.7162086 , ..., 0.29353891,\n",
              "         0.5001218 , 0.69294201],\n",
              "        ...,\n",
              "        [0.        , 0.        , 0.        , ..., 0.        ,\n",
              "         0.        , 0.        ],\n",
              "        [0.        , 0.        , 0.        , ..., 0.        ,\n",
              "         0.        , 0.        ],\n",
              "        [0.        , 0.        , 0.        , ..., 0.        ,\n",
              "         0.        , 0.        ]],\n",
              "\n",
              "       [[0.07030965, 0.40676752, 0.8684857 , ..., 0.50469855,\n",
              "         0.59503819, 0.59367788],\n",
              "        [0.50354548, 0.4076369 , 1.        , ..., 0.5111926 ,\n",
              "         0.6006534 , 0.94119758],\n",
              "        [0.9145489 , 1.        , 0.6684107 , ..., 0.43914286,\n",
              "         0.41429701, 0.48426866],\n",
              "        ...,\n",
              "        [0.        , 0.        , 0.        , ..., 0.        ,\n",
              "         0.        , 0.        ],\n",
              "        [0.        , 0.        , 0.        , ..., 0.        ,\n",
              "         0.        , 0.        ],\n",
              "        [0.        , 0.        , 0.        , ..., 0.        ,\n",
              "         0.        , 0.        ]],\n",
              "\n",
              "       [[0.11247097, 0.58374741, 0.7162086 , ..., 0.29353891,\n",
              "         0.5001218 , 0.69294201],\n",
              "        [0.11247097, 0.58374741, 0.7162086 , ..., 0.29353891,\n",
              "         0.5001218 , 0.69294201],\n",
              "        [0.95036751, 0.87434867, 0.17176543, ..., 0.34823108,\n",
              "         0.48280104, 0.66762789],\n",
              "        ...,\n",
              "        [0.        , 0.        , 0.        , ..., 0.        ,\n",
              "         0.        , 0.        ],\n",
              "        [0.        , 0.        , 0.        , ..., 0.        ,\n",
              "         0.        , 0.        ],\n",
              "        [0.        , 0.        , 0.        , ..., 0.        ,\n",
              "         0.        , 0.        ]]])"
            ]
          },
          "metadata": {},
          "execution_count": 5
        }
      ]
    },
    {
      "cell_type": "code",
      "source": [
        "kwargs = {'num_workers': 1, 'pin_memory': True} \n",
        "r1_transform=torch.from_numpy(r1) # from np to tensor\n",
        "r1_transform=r1_transform.float()\n",
        "r1_transform.shape\n",
        "train_ds, test_ds =torch.utils.data.random_split(r1_transform, (int(0.8*len(r1_transform)), len(r1_transform)-int(0.8*len(r1_transform))))\n",
        "print(train_ds, test_ds)\n",
        "\n",
        "train_loader = DataLoader(dataset=train_ds, batch_size=1000)\n",
        "test_loader  = DataLoader(dataset=test_ds,  batch_size=1000)\n",
        "cuda = True\n",
        "DEVICE = torch.device(\"cuda\")"
      ],
      "metadata": {
        "colab": {
          "base_uri": "https://localhost:8080/"
        },
        "id": "OGf5Q_nlXSdh",
        "outputId": "07a65aaf-98a7-4e12-c01e-a33e954d8545"
      },
      "execution_count": 6,
      "outputs": [
        {
          "output_type": "stream",
          "name": "stdout",
          "text": [
            "<torch.utils.data.dataset.Subset object at 0x7fe5bebbc690> <torch.utils.data.dataset.Subset object at 0x7fe5bebbc390>\n"
          ]
        }
      ]
    },
    {
      "cell_type": "code",
      "source": [
        "#change parameter \n",
        "batch_size = 1000\n",
        "x_dim= 195#660 # 44*15\n",
        "#hidden_dim = 256\n",
        "\n",
        "latent_dim = 128\n",
        "lr = 1e-3"
      ],
      "metadata": {
        "id": "pRSxlUpHXXtP"
      },
      "execution_count": 7,
      "outputs": []
    },
    {
      "cell_type": "code",
      "source": [
        "epochs = 1000\n",
        "\n",
        "class Encoder(nn.Module):\n",
        "    \n",
        "    def __init__(self, input_dim, latent_dim):\n",
        "        super(Encoder, self).__init__()\n",
        "        self.hsize = int(1.5*input_dim)\n",
        "        self.FC_input = nn.Linear(input_dim, self.hsize)\n",
        "        self.FC_input1 = nn.Linear(self.hsize, self.hsize)\n",
        "        #self.FC_input2 = nn.Linear(hidden_dim, hidden_dim)\n",
        "        #self.FC_input3 = nn.Linear(hidden_dim, hidden_dim2)\n",
        "        self.FC_mean  = nn.Linear(self.hsize, latent_dim)\n",
        "        self.FC_var   = nn.Linear (self.hsize, latent_dim)\n",
        "        self.relu = nn.ReLU()  \n",
        "        self.dropout1= nn.Dropout(p=0.3)\n",
        "        self.dropout2 = nn.Dropout(p=0.3)     \n",
        "        self.training = True\n",
        "        \n",
        "    def forward(self, x):\n",
        "        h_       = self.relu(self.FC_input(x))\n",
        "        h_       = self.dropout1(h_)\n",
        "        h_       = self.relu(self.FC_input1(h_))\n",
        "        #h_       = self.dropout1(h_)\n",
        "        #h_       = self.relu(self.FC_input2(h_))\n",
        "        #h_       = self.relu(self.FC_input3(h_))\n",
        "        mean     = self.FC_mean(h_)\n",
        "        log_var  = self.FC_var(h_)                     # encoder produces mean and log of variance \n",
        "                                                     #             (i.e., parateters of simple tractable normal distribution \"q\"\n",
        "        \n",
        "        return mean, log_var\n",
        "\n",
        "class Decoder(nn.Module):\n",
        "    def __init__(self, latent_dim,output_dim):\n",
        "        super(Decoder, self).__init__()\n",
        "        self.hsize = int(1.5*output_dim)\n",
        "        self.FC_hidden1 = nn.Linear(latent_dim, self.hsize)\n",
        "        #self.FC_hidden3 = nn.Linear(hidden_dim, hidden_dim)\n",
        "        self.FC_hidden2 = nn.Linear(self.hsize, self.hsize)\n",
        "        #self.FC_hidden = nn.Linear(hidden_dim, self.hsize)\n",
        "        self.FC_output = nn.Linear(self.hsize, output_dim)      \n",
        "        self.relu = nn.ReLU()\n",
        "        self.dropout1= nn.Dropout(p=0.3)\n",
        "       # self.dropout2 = nn.Dropout(p=0.3)\n",
        "        \n",
        "    def forward(self, x):\n",
        "        h     = self.relu(self.FC_hidden1(x))\n",
        "        h     = self.dropout1(h)\n",
        "        #h     = self.relu(self.FC_hidden3(h))\n",
        "        h     = self.relu(self.FC_hidden2(h))\n",
        "        #h     = self.dropout1(h)\n",
        "        #h     = self.relu(self.FC_hidden(h))\n",
        "        x_hat = torch.sigmoid(self.FC_output(h))\n",
        "        #x_hat = self.relu(self.FC_output(h))\n",
        "        return x_hat\n",
        "\n",
        "class Model(nn.Module):\n",
        "    def __init__(self, Encoder, Decoder):\n",
        "        super(Model, self).__init__()\n",
        "        self.Encoder = Encoder\n",
        "        self.Decoder = Decoder\n",
        "        \n",
        "    def reparameterization(self, mean, var):\n",
        "        epsilon = torch.randn_like(var).to(DEVICE)        # sampling epsilon        \n",
        "        z = mean + var*epsilon \n",
        "        #z  = mean                       # reparameterization trick\n",
        "        return z\n",
        "        \n",
        "                \n",
        "    def forward(self, x):\n",
        "        mean, log_var = self.Encoder(x)\n",
        "        z = self.reparameterization(mean, torch.exp(0.5 * log_var)) # takes exponential function (log var -> var) ]\n",
        "        x_hat = self.Decoder(z)\n",
        "        \n",
        "        return x_hat, mean, log_var\n",
        "\n",
        "encoder = Encoder(input_dim=x_dim, latent_dim=latent_dim)\n",
        "decoder = Decoder(latent_dim=latent_dim,output_dim = x_dim)\n",
        "\n",
        "model = Model(Encoder=encoder, Decoder=decoder).to(DEVICE)\n",
        "\n",
        "from torch.optim import Adam\n",
        "\n",
        "BCE_loss = nn.BCELoss()\n",
        "\n",
        "def loss_function(x, x_hat, mean, log_var):\n",
        "    #reproduction_loss = nn.functional.binary_cross_entropy(x_hat, x, reduction='sum')\n",
        "    MSELoss_criterion = nn.MSELoss()\n",
        "    reproduction_loss = MSELoss_criterion(x_hat, x) \n",
        "    # try MSE \n",
        "    #MSELoss_criterion = nn.MSELoss()\n",
        "    #reproduction_loss = MSELoss_criterion(x_hat, x) \n",
        "    KLD      = - 0.5 * torch.sum(1+ log_var - mean.pow(2) - log_var.exp())\n",
        "    return reproduction_loss + KLD, reproduction_loss\n",
        "\n",
        "\n",
        "optimizer = Adam(model.parameters(), lr=lr)   \n",
        "\n",
        "train_loss= [] # before epoch\n",
        "testtoal_loss= []\n",
        "reproduction1=[]\n",
        "reproduction2=[]\n",
        "\n",
        "def plotCurve(x_vals,y_vals,x_label, y_label,\n",
        "              x2_vals=None, y2_vals=None, legend=None,figsize=(3.5,2.5)):\n",
        "    plt.xlabel(x_label)\n",
        "    plt.ylabel(y_label)\n",
        "    plt.semilogy(x_vals, y_vals)\n",
        "    if x2_vals and y2_vals:\n",
        "        plt.semilogy(x2_vals, y2_vals, linestyle=':')\n",
        "    \n",
        "    if legend:\n",
        "        plt.legend(legend)\n",
        "for epoch in range(epochs):\n",
        "    overall_loss = 0\n",
        "    overall_testloss= 0\n",
        "    overall_res = 0\n",
        "    overall_testres= 0\n",
        "    \n",
        "    for batch_idx, x in enumerate(train_loader):\n",
        "        x = x.view(len(x), x_dim)\n",
        "        x = x.to(DEVICE)\n",
        "\n",
        "        optimizer.zero_grad()\n",
        "\n",
        "        x_hat, mean, log_var = model(x)\n",
        "        loss, reproduction_loss = loss_function(x, x_hat, mean, log_var)\n",
        "        optimizer.zero_grad()\n",
        "        loss.backward()\n",
        "        optimizer.step()\n",
        "        overall_loss += loss.item()\n",
        "        overall_res += reproduction_loss.item()\n",
        "    train_loss.append(overall_loss/len(train_ds))\n",
        "    reproduction1.append(overall_res/len(train_ds))\n",
        "\n",
        "      #test loss\n",
        "    for batch_idx, x in enumerate(test_loader):\n",
        "        x = x.view(len(x), x_dim)\n",
        "        x = x.to(DEVICE)\n",
        "\n",
        "        #optimizer.zero_grad()\n",
        "\n",
        "        pred, mean, log_var = model(x)\n",
        "        test_loss, test_reproduction= loss_function(x, pred, mean, log_var)\n",
        "        overall_testloss += test_loss.item()\n",
        "        overall_testres += test_reproduction.item()\n",
        "    testtoal_loss.append(overall_testloss/len(test_ds))\n",
        "    reproduction2.append(overall_testres/len(test_ds))\n",
        "\n",
        "    if (epoch % 100 == 0):\n",
        "      #print('====> Epoch %d done! Average Loss:  = %.2e, Average test loss = %.2e' % (epoch,overall_loss / (batch_idx*batch_size),overall_testloss/(batch_idx*batch_size)))\n",
        "        \n",
        "        \n",
        "      print(\"\\tEpoch\", epoch , \"complete!\", \"\\tAverage Loss: \", train_loss[epoch],#overall_loss / (batch_idx*batch_size),\n",
        "        \"\\tAverage Test Loss: \" , testtoal_loss[epoch])\n",
        "    \n",
        "print(\"Finish!!\")\n",
        "print(\"plot curves\")\n",
        "plotCurve(range(1,epochs+1),train_loss,\"epoch\",\"loss\",\n",
        "          range(1,epochs+1),testtoal_loss,\n",
        "          ['train','test'])\n",
        "\n",
        "\n",
        "print('==train end===')"
      ],
      "metadata": {
        "colab": {
          "base_uri": "https://localhost:8080/",
          "height": 511
        },
        "id": "IKqa5QIXXeVs",
        "outputId": "a89f272d-78fe-4fe3-81f3-3dee55d84cd1"
      },
      "execution_count": 8,
      "outputs": [
        {
          "output_type": "stream",
          "name": "stdout",
          "text": [
            "\tEpoch 0 complete! \tAverage Loss:  0.03069361625239253 \tAverage Test Loss:  0.0018295249193906785\n",
            "\tEpoch 100 complete! \tAverage Loss:  4.84623908996582e-05 \tAverage Test Loss:  4.877050779759884e-05\n",
            "\tEpoch 200 complete! \tAverage Loss:  4.869240219704807e-05 \tAverage Test Loss:  4.887949954718352e-05\n",
            "\tEpoch 300 complete! \tAverage Loss:  5.170149065088481e-05 \tAverage Test Loss:  4.956699348986149e-05\n",
            "\tEpoch 400 complete! \tAverage Loss:  4.852665332145989e-05 \tAverage Test Loss:  4.884027549996972e-05\n",
            "\tEpoch 500 complete! \tAverage Loss:  4.8871316947042945e-05 \tAverage Test Loss:  4.9043230712413784e-05\n",
            "\tEpoch 600 complete! \tAverage Loss:  4.863410419784486e-05 \tAverage Test Loss:  4.887281637638807e-05\n",
            "\tEpoch 700 complete! \tAverage Loss:  4.8672891571186485e-05 \tAverage Test Loss:  4.901957837864757e-05\n",
            "\tEpoch 800 complete! \tAverage Loss:  4.8684318899177014e-05 \tAverage Test Loss:  4.8819380346685646e-05\n",
            "\tEpoch 900 complete! \tAverage Loss:  4.846051824279129e-05 \tAverage Test Loss:  4.8685803078114987e-05\n",
            "Finish!!\n",
            "plot curves\n",
            "==train end===\n"
          ]
        },
        {
          "output_type": "display_data",
          "data": {
            "text/plain": [
              "<Figure size 432x288 with 1 Axes>"
            ],
            "image/png": "[encoded data removed]"
          },
          "metadata": {
            "needs_background": "light"
          }
        }
      ]
    },
    {
      "cell_type": "code",
      "source": [
        "torch.save(model, '/content/drive/My Drive/DL/VAE/Newdata/VAE_extract_modify_model_1000_echo.apx')\n",
        "model = torch.load('/content/drive/My Drive/DL/VAE/Newdata/VAE_extract_modify_model_1000_echo.apx')"
      ],
      "metadata": {
        "id": "ErrdaPi0esko"
      },
      "execution_count": 9,
      "outputs": []
    },
    {
      "cell_type": "code",
      "source": [
        "my_file2 = open(\"/content/drive/My Drive/DL/VAE/Newdata/short_Normaltest.txt\", \"r\")\n",
        "content_list2 = my_file2.read().splitlines()\n",
        "\n",
        "neww=np.array(content_list2)\n",
        "\n",
        "#neww=[x for x in content_list2 if len(x)<=13]\n",
        "\n",
        "neww=np.array(neww)\n",
        "r2=GetFeatures(neww)\n",
        "r2_transform=torch.from_numpy(r2).float() # change to tensor and float \n",
        "m2=r2_transform.view(len(r2_transform),195) # flatten \n",
        "#m2 = torch.from_numpy(m2).float()\n",
        "#result = model(m2)[0] # \n",
        "result = model(m2.cuda())[0]\n",
        "result2 = result.view( len(result),13,15 ).cpu().detach().numpy()\n",
        "\n",
        "\n",
        "seq_decode=reconstructSequence(new_pca,result2)\n",
        "#content_list2\n",
        "seq_decode[:10]"
      ],
      "metadata": {
        "colab": {
          "base_uri": "https://localhost:8080/"
        },
        "id": "DtaEeXyJe1K0",
        "outputId": "23378ec3-4985-4921-a1d3-1dde64d978d8"
      },
      "execution_count": 13,
      "outputs": [
        {
          "output_type": "stream",
          "name": "stdout",
          "text": [
            "0.0%\n",
            "5.037529595486374%\n",
            "10.075059190972748%\n",
            "15.112588786459119%\n",
            "20.150118381945497%\n",
            "25.187647977431865%\n",
            "30.225177572918238%\n",
            "35.26270716840462%\n",
            "40.30023676389099%\n",
            "45.33776635937736%\n",
            "50.37529595486373%\n",
            "55.41282555035011%\n",
            "60.450355145836475%\n",
            "65.48788474132286%\n",
            "70.52541433680923%\n",
            "75.5629439322956%\n",
            "80.60047352778199%\n",
            "85.63800312326835%\n",
            "90.67553271875472%\n",
            "95.7130623142411%\n"
          ]
        },
        {
          "output_type": "execute_result",
          "data": {
            "text/plain": [
              "['ASSSSQQQI',\n",
              " 'ASSSSQQQI',\n",
              " 'ASSSSQQQI',\n",
              " 'ASSSSQQQI',\n",
              " 'ASSSSQQQI',\n",
              " 'ASSSSQQQI',\n",
              " 'ASSSSQQQI',\n",
              " 'ASSSSQQQI',\n",
              " 'ASSSSQQQI',\n",
              " 'ASSSSQQQI']"
            ]
          },
          "metadata": {},
          "execution_count": 13
        }
      ]
    },
    {
      "cell_type": "code",
      "source": [
        "neww[:10]"
      ],
      "metadata": {
        "colab": {
          "base_uri": "https://localhost:8080/"
        },
        "id": "9u6l49yCfcYA",
        "outputId": "2fe409bd-764e-4010-9d01-73db88934582"
      },
      "execution_count": 14,
      "outputs": [
        {
          "output_type": "execute_result",
          "data": {
            "text/plain": [
              "array(['RGTSASTDTQ', 'QEFAGGTDTQ', 'QDFGGGTDTQ', 'QDRGQGADTQ',\n",
              "       'QDPGQGADTQ', 'QEPGQGSDTQ', 'QEPGQGADTQ', 'QDPGGGADTQ',\n",
              "       'QDPSGGAETQ', 'QDNSGGAETQ'], dtype='<U13')"
            ]
          },
          "metadata": {},
          "execution_count": 14
        }
      ]
    },
    {
      "cell_type": "code",
      "source": [
        "seq_decode[:10]"
      ],
      "metadata": {
        "colab": {
          "base_uri": "https://localhost:8080/"
        },
        "id": "lDBJV2Fd9rOG",
        "outputId": "e8f0d35f-6fb8-4799-96ab-fa237a9fddb2"
      },
      "execution_count": 15,
      "outputs": [
        {
          "output_type": "execute_result",
          "data": {
            "text/plain": [
              "['ASSSSQQQI',\n",
              " 'ASSSSQQQI',\n",
              " 'ASSSSQQQI',\n",
              " 'ASSSSQQQI',\n",
              " 'ASSSSQQQI',\n",
              " 'ASSSSQQQI',\n",
              " 'ASSSSQQQI',\n",
              " 'ASSSSQQQI',\n",
              " 'ASSSSQQQI',\n",
              " 'ASSSSQQQI']"
            ]
          },
          "metadata": {},
          "execution_count": 15
        }
      ]
    },
    {
      "cell_type": "code",
      "source": [
        "CompareSeq(new_pca,result2,neww)"
      ],
      "metadata": {
        "colab": {
          "base_uri": "https://localhost:8080/"
        },
        "id": "bYhYaFu8e5ML",
        "outputId": "65273c41-9220-4761-ac16-d3ade47357f8"
      },
      "execution_count": 17,
      "outputs": [
        {
          "output_type": "stream",
          "name": "stdout",
          "text": [
            "0.0%\n",
            "5.037529595486374%\n",
            "10.075059190972748%\n",
            "15.112588786459119%\n",
            "20.150118381945497%\n",
            "25.187647977431865%\n",
            "30.225177572918238%\n",
            "35.26270716840462%\n",
            "40.30023676389099%\n",
            "45.33776635937736%\n",
            "50.37529595486373%\n",
            "55.41282555035011%\n",
            "60.450355145836475%\n",
            "65.48788474132286%\n",
            "70.52541433680923%\n",
            "75.5629439322956%\n",
            "80.60047352778199%\n",
            "85.63800312326835%\n",
            "90.67553271875472%\n",
            "95.7130623142411%\n",
            "start comparing sequence\n",
            "the accuracy is 0.0%\n"
          ]
        }
      ]
    },
    {
      "cell_type": "code",
      "source": [
        "a= neww[3]\n",
        "b= seq_decode[3]"
      ],
      "metadata": {
        "id": "U6KoMvU3-AQk"
      },
      "execution_count": 18,
      "outputs": []
    },
    {
      "cell_type": "code",
      "source": [
        "len(seq_decode)"
      ],
      "metadata": {
        "colab": {
          "base_uri": "https://localhost:8080/"
        },
        "id": "kiYLCQ5ugfok",
        "outputId": "3061854e-4129-4f41-aed4-2a26872437bd"
      },
      "execution_count": null,
      "outputs": [
        {
          "output_type": "execute_result",
          "data": {
            "text/plain": [
              "10000"
            ]
          },
          "metadata": {},
          "execution_count": 21
        }
      ]
    },
    {
      "cell_type": "code",
      "source": [
        "len(content_list2)"
      ],
      "metadata": {
        "colab": {
          "base_uri": "https://localhost:8080/"
        },
        "id": "Hg8tWYH7gh3w",
        "outputId": "3ba4a799-abd5-418e-dbc9-6ecff1362150"
      },
      "execution_count": null,
      "outputs": [
        {
          "output_type": "execute_result",
          "data": {
            "text/plain": [
              "10000"
            ]
          },
          "metadata": {},
          "execution_count": 23
        }
      ]
    },
    {
      "cell_type": "code",
      "source": [
        "a\n"
      ],
      "metadata": {
        "colab": {
          "base_uri": "https://localhost:8080/",
          "height": 35
        },
        "id": "kjO5gW4C-bTO",
        "outputId": "eb559386-20ff-43c4-8753-d8090766c7bb"
      },
      "execution_count": null,
      "outputs": [
        {
          "output_type": "execute_result",
          "data": {
            "text/plain": [
              "'IRNPETQ'"
            ],
            "application/vnd.google.colaboratory.intrinsic+json": {
              "type": "string"
            }
          },
          "metadata": {},
          "execution_count": 83
        }
      ]
    },
    {
      "cell_type": "code",
      "source": [
        "b"
      ],
      "metadata": {
        "colab": {
          "base_uri": "https://localhost:8080/",
          "height": 35
        },
        "id": "5LP79SWZ_Flg",
        "outputId": "0b01b760-cd67-4aba-d7dc-a739d2cb27db"
      },
      "execution_count": null,
      "outputs": [
        {
          "output_type": "execute_result",
          "data": {
            "text/plain": [
              "'PSGSETQ'"
            ],
            "application/vnd.google.colaboratory.intrinsic+json": {
              "type": "string"
            }
          },
          "metadata": {},
          "execution_count": 84
        }
      ]
    },
    {
      "cell_type": "code",
      "source": [
        "def compare_percent (seq1,seq2):\n",
        "  return float(sum(seq1[i]==seq2[i] for i in range(len(seq1)))/len(seq1))"
      ],
      "metadata": {
        "id": "dh2V0t8m-Gt7"
      },
      "execution_count": 19,
      "outputs": []
    },
    {
      "cell_type": "code",
      "source": [
        "compare_percent(seq_decode[1],neww[1])"
      ],
      "metadata": {
        "colab": {
          "base_uri": "https://localhost:8080/"
        },
        "id": "yzDEPNSkAYct",
        "outputId": "e91fc732-a0c6-45a3-93f5-1a04fad2be22"
      },
      "execution_count": 20,
      "outputs": [
        {
          "output_type": "execute_result",
          "data": {
            "text/plain": [
              "0.0"
            ]
          },
          "metadata": {},
          "execution_count": 20
        }
      ]
    },
    {
      "cell_type": "code",
      "source": [
        "def compare_percent (seq1,seq2):\n",
        "  return float(sum(seq1[i]==seq2[i] for i in range(len(seq1)))/len(seq1))\n",
        "\n",
        "def CoverageSeq(data,correct):\n",
        "  print(\"start comparing sequence\")\n",
        "  percentage = []\n",
        "  for i in range(len(data)):\n",
        "    percentage.append(compare_percent(data[i],correct[i]))\n",
        "  Accu = sum(percentage)/len(percentage)   \n",
        "  print(f'the average coverage is {Accu:.1%}')\n",
        "\n",
        " \n",
        "  "
      ],
      "metadata": {
        "id": "4MpgzQtY-_NH"
      },
      "execution_count": 21,
      "outputs": []
    },
    {
      "cell_type": "code",
      "source": [
        "with open(r'/content/drive/My Drive/DL/VAE/Newdata/Tumor_prediction.txt','w') as fp:\n",
        "    fp.write('\\n'.join(seq_decode))"
      ],
      "metadata": {
        "id": "LUEzwobJfcL-"
      },
      "execution_count": null,
      "outputs": []
    },
    {
      "cell_type": "code",
      "source": [
        "CoverageSeq(seq_decode[:100],neww[:100])"
      ],
      "metadata": {
        "colab": {
          "base_uri": "https://localhost:8080/"
        },
        "id": "xjtSDiwoAEcX",
        "outputId": "4496c7a2-749e-42f5-8da9-d58006c61a5f"
      },
      "execution_count": 25,
      "outputs": [
        {
          "output_type": "stream",
          "name": "stdout",
          "text": [
            "start comparing sequence\n",
            "the average coverage is 7.3%\n"
          ]
        }
      ]
    },
    {
      "cell_type": "markdown",
      "source": [
        ""
      ],
      "metadata": {
        "id": "S0Kx2flU49BI"
      }
    },
    {
      "cell_type": "code",
      "source": [
        "new_pca"
      ],
      "metadata": {
        "colab": {
          "base_uri": "https://localhost:8080/"
        },
        "id": "SXv_zgVF49js",
        "outputId": "820946b3-25e9-4521-c6b7-25ce85081aea"
      },
      "execution_count": 26,
      "outputs": [
        {
          "output_type": "execute_result",
          "data": {
            "text/plain": [
              "{'A': array([0.50354548, 0.4076369 , 1.        , 0.55951449, 0.73118242,\n",
              "        0.43092049, 0.78203872, 0.36312716, 0.63041598, 0.2458337 ,\n",
              "        0.51973429, 0.43396146, 0.5111926 , 0.6006534 , 0.94119758]),\n",
              " 'C': array([0.31121817, 0.66882902, 0.24303985, 1.        , 1.        ,\n",
              "        1.        , 0.6498213 , 0.11758461, 0.28151378, 0.70761651,\n",
              "        0.63877004, 0.59669379, 0.48222483, 0.47926492, 0.55233719]),\n",
              " 'D': array([1.        , 0.35242153, 0.45879071, 0.64595929, 0.88531876,\n",
              "        0.21007324, 0.        , 0.37649839, 0.18366252, 0.31832004,\n",
              "        0.57289266, 0.67644312, 0.04997744, 1.        , 0.44779209]),\n",
              " 'E': array([0.84156162, 0.01472165, 0.74788582, 0.50782993, 0.99378639,\n",
              "        0.36414319, 0.28450833, 0.24629134, 0.13982815, 0.39741824,\n",
              "        0.44123645, 0.3951055 , 0.72998689, 0.07643977, 0.64214071]),\n",
              " 'F': array([0.0453665 , 0.4453626 , 0.35492999, 0.49786522, 0.49910808,\n",
              "        0.2526996 , 0.54564697, 0.58228714, 0.27279403, 0.30506733,\n",
              "        0.70382136, 0.72145279, 0.40878165, 0.18731579, 0.        ]),\n",
              " 'G': array([0.9145489 , 1.        , 0.6684107 , 0.74867381, 0.20191558,\n",
              "        0.        , 0.928923  , 0.11158769, 0.        , 0.29856743,\n",
              "        0.35444229, 0.52654872, 0.43914286, 0.41429701, 0.48426866]),\n",
              " 'H': array([0.5466722 , 0.23034084, 0.23674313, 0.69599783, 0.59789787,\n",
              "        0.44526773, 0.86640268, 1.        , 0.09437858, 0.29780476,\n",
              "        0.6117088 , 0.        , 0.46698353, 0.60350722, 0.57779154]),\n",
              " 'I': array([0.        , 0.54289831, 0.59825751, 0.4708124 , 0.36962036,\n",
              "        0.55140923, 0.31640025, 0.46181541, 0.06907555, 0.533935  ,\n",
              "        0.22090039, 0.48720571, 0.        , 0.327881  , 0.75923615]),\n",
              " 'K': array([0.83311257, 0.00431661, 0.5397168 , 0.51335308, 0.17080672,\n",
              "        0.51651729, 0.84397111, 0.314569  , 0.49219165, 1.        ,\n",
              "        0.23670444, 0.45174757, 0.2385159 , 0.74577505, 0.35191302]),\n",
              " 'L': array([0.07030965, 0.40676752, 0.8684857 , 0.41046604, 0.45989152,\n",
              "        0.36670608, 0.62397351, 0.45830058, 0.5529443 , 0.68610625,\n",
              "        1.        , 0.76046812, 0.50469855, 0.59503819, 0.59367788]),\n",
              " 'M': array([0.12333395, 0.24346866, 0.50313421, 0.63101795, 0.89242261,\n",
              "        0.4071863 , 1.        , 0.60823494, 0.20075653, 0.15877156,\n",
              "        0.14918934, 1.        , 0.21593719, 0.70353792, 0.76815994]),\n",
              " 'N': array([0.91534314, 0.46498996, 0.34456904, 0.74773478, 0.42531884,\n",
              "        0.2776711 , 0.48026122, 0.77929179, 0.444165  , 0.69032909,\n",
              "        0.60590039, 0.7491068 , 0.0691919 , 0.        , 1.        ]),\n",
              " 'P': array([0.95036751, 0.87434867, 0.17176543, 0.        , 0.8820364 ,\n",
              "        0.71827252, 0.76136545, 0.43366677, 0.30902513, 0.45718374,\n",
              "        0.48978171, 0.55937743, 0.34823108, 0.48280104, 0.66762789]),\n",
              " 'Q': array([0.73470404, 0.15413173, 0.44710621, 0.57572548, 0.57560045,\n",
              "        0.61084758, 0.64210614, 0.45661582, 0.43004342, 0.40960816,\n",
              "        0.        , 0.8571629 , 0.58638868, 0.22637819, 0.4562345 ]),\n",
              " 'R': array([0.75074501, 0.        , 0.30569116, 0.53943379, 0.        ,\n",
              "        0.8382432 , 0.69481432, 0.08361831, 0.1106684 , 0.        ,\n",
              "        0.8625434 , 0.68965372, 0.22308671, 0.41932357, 0.76677   ]),\n",
              " 'S': array([0.83691199, 0.62587895, 0.56787507, 0.68624476, 0.36429031,\n",
              "        0.59783729, 0.48701846, 0.6419868 , 0.91526777, 0.34459209,\n",
              "        0.5160937 , 0.65589048, 0.49694967, 0.58137626, 0.73076975]),\n",
              " 'T': array([0.64655608, 0.57265116, 0.51599322, 0.62926071, 0.33621006,\n",
              "        0.75491801, 0.360507  , 0.56840305, 0.93827579, 0.07907109,\n",
              "        0.30356047, 0.52375941, 0.40037662, 0.45485839, 0.30691402]),\n",
              " 'V': array([0.11247097, 0.58374741, 0.7162086 , 0.5532744 , 0.30086503,\n",
              "        0.77449216, 0.27495057, 0.39388225, 0.13310144, 0.36295439,\n",
              "        0.23154801, 0.30211069, 0.29353891, 0.5001218 , 0.69294201]),\n",
              " 'W': array([0.10510695, 0.29912515, 0.        , 0.54927228, 0.6532478 ,\n",
              "        0.04017657, 0.6019156 , 0.        , 1.        , 0.32890699,\n",
              "        0.38188638, 0.31161021, 0.22370837, 0.40379493, 0.75077026]),\n",
              " 'Y': array([0.33383287, 0.45710052, 0.05809713, 0.53953891, 0.14235009,\n",
              "        0.29899305, 0.26697424, 0.46869028, 0.15290173, 0.5088252 ,\n",
              "        0.35029818, 0.73157256, 1.        , 0.75875861, 0.89234431])}"
            ]
          },
          "metadata": {},
          "execution_count": 26
        }
      ]
    },
    {
      "cell_type": "code",
      "source": [
        "d_norm"
      ],
      "metadata": {
        "colab": {
          "base_uri": "https://localhost:8080/"
        },
        "id": "9Y53B43Pnpdg",
        "outputId": "e3f287ae-6f0c-4e8f-e97a-1ac99c95193d"
      },
      "execution_count": null,
      "outputs": [
        {
          "output_type": "execute_result",
          "data": {
            "text/plain": [
              "{'A': [0.07525231330089575,\n",
              "  0.11110993247250554,\n",
              "  1.0,\n",
              "  0.10085171430385075,\n",
              "  0.3362586030378956,\n",
              "  0.08589557098930195,\n",
              "  0.3166716257763159,\n",
              "  0.07845695355133557,\n",
              "  0.29558950944630463,\n",
              "  0.0,\n",
              "  0.17264524667274148,\n",
              "  0.02519795885608285,\n",
              "  0.21399362066317887,\n",
              "  0.20352855444366297,\n",
              "  0.315091708147771],\n",
              " 'C': [0.0,\n",
              "  0.7495696809258403,\n",
              "  0.07865597242639141,\n",
              "  1.0,\n",
              "  0.7627030301724574,\n",
              "  0.8168259804237982,\n",
              "  0.4333259554067372,\n",
              "  0.16777058828085453,\n",
              "  0.33203232126086285,\n",
              "  0.5724424696175718,\n",
              "  0.4816359939467978,\n",
              "  0.39170914029908754,\n",
              "  0.4294503690415155,\n",
              "  0.37686420256824266,\n",
              "  0.3449489815613006],\n",
              " 'D': [1.0,\n",
              "  0.25640988772162693,\n",
              "  0.32592183369372396,\n",
              "  0.4200305281353341,\n",
              "  0.5744582792254195,\n",
              "  0.1560420670881465,\n",
              "  0.0,\n",
              "  0.3091207506859722,\n",
              "  0.258039340323857,\n",
              "  0.2882727977487466,\n",
              "  0.3895335207450628,\n",
              "  0.38763175831637187,\n",
              "  0.18676139620557258,\n",
              "  0.5451097643479257,\n",
              "  0.2696370438467982],\n",
              " 'E': [1.0,\n",
              "  0.0,\n",
              "  0.8519057393700852,\n",
              "  0.4383574918534277,\n",
              "  0.8599244246079534,\n",
              "  0.44531872514061677,\n",
              "  0.34420016307077556,\n",
              "  0.419059344611419,\n",
              "  0.42225745162953326,\n",
              "  0.5198370169967937,\n",
              "  0.5156048873805594,\n",
              "  0.43016470999442546,\n",
              "  0.6900729995633731,\n",
              "  0.35120051609907876,\n",
              "  0.5345244192415937],\n",
              " 'F': [0.0,\n",
              "  0.895733473148773,\n",
              "  0.7011590523747511,\n",
              "  0.7376751135070108,\n",
              "  0.8326948911199726,\n",
              "  0.6656336257964081,\n",
              "  0.8350784673036493,\n",
              "  0.9640613943974748,\n",
              "  0.8036733026826525,\n",
              "  0.7859090504395838,\n",
              "  1.0,\n",
              "  0.9471968615621887,\n",
              "  0.866915547211168,\n",
              "  0.7070806796148316,\n",
              "  0.5571209609523142],\n",
              " 'G': [0.8429478606727597,\n",
              "  1.0,\n",
              "  0.5252595800001968,\n",
              "  0.5157339382265325,\n",
              "  0.10595183977026666,\n",
              "  0.0,\n",
              "  0.5182939879393725,\n",
              "  0.1448507683832697,\n",
              "  0.1635863707059629,\n",
              "  0.25771403489247624,\n",
              "  0.2645076978972347,\n",
              "  0.29169149364768643,\n",
              "  0.3371516858971288,\n",
              "  0.2885992645132769,\n",
              "  0.26336986042163396],\n",
              " 'H': [0.5126265387855812,\n",
              "  0.09731129383041622,\n",
              "  0.05945794084348342,\n",
              "  0.7097374700756438,\n",
              "  0.5516277849080972,\n",
              "  0.440047129202897,\n",
              "  0.7575343571408631,\n",
              "  1.0,\n",
              "  0.2820940753373731,\n",
              "  0.37571029661074035,\n",
              "  0.5913471743406188,\n",
              "  0.0,\n",
              "  0.5314019560074463,\n",
              "  0.5542149644707269,\n",
              "  0.44494028619636306],\n",
              " 'I': [0.0,\n",
              "  1.0,\n",
              "  0.9885681993705422,\n",
              "  0.6916893496569098,\n",
              "  0.716811876392177,\n",
              "  0.8904204716744661,\n",
              "  0.6644952019940336,\n",
              "  0.8546040454511806,\n",
              "  0.6913489478662816,\n",
              "  0.9061621665512967,\n",
              "  0.7032972461385075,\n",
              "  0.7838413537916215,\n",
              "  0.6408050606795745,\n",
              "  0.7634954867765327,\n",
              "  0.8904188104131613],\n",
              " 'K': [1.0,\n",
              "  0.0,\n",
              "  0.6224925689412456,\n",
              "  0.45870440453940453,\n",
              "  0.28653953182045644,\n",
              "  0.5702684748742254,\n",
              "  0.7109431777333735,\n",
              "  0.4731589744266013,\n",
              "  0.5944542049205196,\n",
              "  0.8774963904168196,\n",
              "  0.4232781906968988,\n",
              "  0.47385438071969777,\n",
              "  0.468590598677312,\n",
              "  0.654037749694505,\n",
              "  0.4283132649572589],\n",
              " 'L': [0.0,\n",
              "  0.5863803144325149,\n",
              "  1.0,\n",
              "  0.4159670626311591,\n",
              "  0.5589965160251994,\n",
              "  0.5314191618685169,\n",
              "  0.6273477703452663,\n",
              "  0.6163358349171919,\n",
              "  0.6702660421447921,\n",
              "  0.735795072378089,\n",
              "  0.838109980309614,\n",
              "  0.685712646619566,\n",
              "  0.6476918286577013,\n",
              "  0.6418595735475899,\n",
              "  0.5893267664779259],\n",
              " 'M': [0.0,\n",
              "  0.43830909825218134,\n",
              "  0.7409924383569062,\n",
              "  0.7752214270749493,\n",
              "  0.9899826728151006,\n",
              "  0.6396972425149291,\n",
              "  1.0,\n",
              "  0.8187826178008332,\n",
              "  0.6091062409752325,\n",
              "  0.5341964995888923,\n",
              "  0.5133901381085172,\n",
              "  0.9538346486338766,\n",
              "  0.6032724826669291,\n",
              "  0.8040070758905902,\n",
              "  0.7631196336148462],\n",
              " 'N': [1.0,\n",
              "  0.33875792059923404,\n",
              "  0.08051659481278953,\n",
              "  0.5409271544498805,\n",
              "  0.17196565841462272,\n",
              "  0.08031021902130163,\n",
              "  0.18874324146258997,\n",
              "  0.5291298621814148,\n",
              "  0.3042291274231407,\n",
              "  0.46516048086757544,\n",
              "  0.3558216551514157,\n",
              "  0.38102091917816505,\n",
              "  0.07103751169386222,\n",
              "  0.0,\n",
              "  0.4581217601781321],\n",
              " 'P': [1.0,\n",
              "  0.9678299346937969,\n",
              "  0.2873103002501223,\n",
              "  0.0,\n",
              "  0.7213204128707134,\n",
              "  0.6669596159543625,\n",
              "  0.6238994283073512,\n",
              "  0.5410672692796757,\n",
              "  0.5174577603260793,\n",
              "  0.5575554186175415,\n",
              "  0.5478805598359968,\n",
              "  0.5318649596881818,\n",
              "  0.5240640632391992,\n",
              "  0.5380705357967374,\n",
              "  0.5510302557034584],\n",
              " 'Q': [1.0,\n",
              "  0.0,\n",
              "  0.4874090946271054,\n",
              "  0.5245669212057058,\n",
              "  0.5793156314297405,\n",
              "  0.6777278493076948,\n",
              "  0.59227066691311,\n",
              "  0.5537248504715857,\n",
              "  0.56634213135494,\n",
              "  0.5260065313635187,\n",
              "  0.16170176261684477,\n",
              "  0.7576206204257647,\n",
              "  0.6703503929841057,\n",
              "  0.3572468087354067,\n",
              "  0.4211125451159518],\n",
              " 'R': [1.0,\n",
              "  0.0,\n",
              "  0.4038784221987408,\n",
              "  0.5654030339035435,\n",
              "  0.19358241833934803,\n",
              "  0.9218071081013374,\n",
              "  0.706684933100523,\n",
              "  0.386763003529879,\n",
              "  0.4859773194257129,\n",
              "  0.35364725786412415,\n",
              "  0.853611611157344,\n",
              "  0.6896935049070329,\n",
              "  0.5301256891869882,\n",
              "  0.5887127624896037,\n",
              "  0.6865122676206136],\n",
              " 'S': [1.0,\n",
              "  0.6629241425186176,\n",
              "  0.3971421939093515,\n",
              "  0.4420408948983864,\n",
              "  0.0,\n",
              "  0.35348655089863573,\n",
              "  0.10502055773770015,\n",
              "  0.4208554468348848,\n",
              "  0.6207996317227813,\n",
              "  0.13490123847412938,\n",
              "  0.24598842050611336,\n",
              "  0.2738604526326865,\n",
              "  0.28816462866556675,\n",
              "  0.272696218428129,\n",
              "  0.2747925450248808],\n",
              " 'T': [0.8228897134291544,\n",
              "  0.8757819027580704,\n",
              "  0.548406058063984,\n",
              "  0.577890595088464,\n",
              "  0.11999907040692198,\n",
              "  0.8861660541899355,\n",
              "  0.12255981142787364,\n",
              "  0.6162292045627772,\n",
              "  1.0,\n",
              "  0.0,\n",
              "  0.24006222576062317,\n",
              "  0.363306898053537,\n",
              "  0.4381127078433509,\n",
              "  0.3984490011957435,\n",
              "  0.1322066508263117],\n",
              " 'V': [0.0,\n",
              "  0.920716874525087,\n",
              "  1.0,\n",
              "  0.655058838720571,\n",
              "  0.5129696990389304,\n",
              "  0.9256144269570291,\n",
              "  0.48287391494469567,\n",
              "  0.6664471681991371,\n",
              "  0.5707851059690189,\n",
              "  0.6585185784388967,\n",
              "  0.5579245811081751,\n",
              "  0.5283973596348936,\n",
              "  0.6384838576643221,\n",
              "  0.6959231163231407,\n",
              "  0.718506279249867],\n",
              " 'W': [0.0,\n",
              "  0.5265518403635485,\n",
              "  0.10646350556584966,\n",
              "  0.656785011442361,\n",
              "  0.7917551877840969,\n",
              "  0.3508570096499505,\n",
              "  0.7139502832159056,\n",
              "  0.41973735777416,\n",
              "  1.0,\n",
              "  0.6448022714666447,\n",
              "  0.649460142439607,\n",
              "  0.5420991485613023,\n",
              "  0.6099816370257962,\n",
              "  0.6580120762938598,\n",
              "  0.7509510362085703],\n",
              " 'Y': [0.2345055512181357,\n",
              "  0.6856921147807877,\n",
              "  0.0,\n",
              "  0.5591293461222061,\n",
              "  0.26547243642931984,\n",
              "  0.4531111785071339,\n",
              "  0.3695535713604565,\n",
              "  0.6538405771977889,\n",
              "  0.4928710738587172,\n",
              "  0.6945165385130224,\n",
              "  0.545421988640566,\n",
              "  0.7303338734901412,\n",
              "  1.0,\n",
              "  0.776257903904405,\n",
              "  0.764500006812323]}"
            ]
          },
          "metadata": {},
          "execution_count": 46
        }
      ]
    }
  ]
}